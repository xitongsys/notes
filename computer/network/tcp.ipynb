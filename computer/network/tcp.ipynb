{
 "cells": [
  {
   "cell_type": "markdown",
   "metadata": {},
   "source": [
    "# TCP\n",
    "\n",
    "<img src='res/tcp01.png' width=500px />\n",
    "<img src='res/tcp02.png' width=500px />"
   ]
  }
 ],
 "metadata": {
  "language_info": {
   "name": "python"
  }
 },
 "nbformat": 4,
 "nbformat_minor": 2
}

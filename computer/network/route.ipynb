{
 "cells": [
  {
   "cell_type": "markdown",
   "metadata": {},
   "source": [
    "# Route"
   ]
  },
  {
   "cell_type": "markdown",
   "metadata": {},
   "source": [
    "```c\n",
    "/** xitongsys\n",
    "* 几个地址宏\n",
    "**/\n",
    "\n",
    "/* 回环 127.0.0.0 */\n",
    "#define LOOPBACK(x)\t(((x) & htonl(0xff000000)) == htonl(0x7f000000))\n",
    "\n",
    "/* 多播 224.0.0.0 - 239.255.255.255 */\n",
    "#define MULTICAST(x)\t(((x) & htonl(0xf0000000)) == htonl(0xe0000000))\n",
    "\n",
    "/* */\n",
    "#define BADCLASS(x)\t(((x) & htonl(0xf0000000)) == htonl(0xf0000000))\n",
    "\n",
    "/* 0.0.0.0 */\n",
    "#define ZERONET(x)\t(((x) & htonl(0xff000000)) == htonl(0x00000000))\n",
    "\n",
    "/* 224.0.0.0 */\n",
    "#define LOCAL_MCAST(x)\t(((x) & htonl(0xFFFFFF00)) == htonl(0xE0000000))\n",
    "```"
   ]
  },
  {
   "cell_type": "markdown",
   "metadata": {},
   "source": [
    "## FIB (Forwarding Information Base)"
   ]
  }
 ],
 "metadata": {
  "language_info": {
   "name": "python"
  }
 },
 "nbformat": 4,
 "nbformat_minor": 2
}

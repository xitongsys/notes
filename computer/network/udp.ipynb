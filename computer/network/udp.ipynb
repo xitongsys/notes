{
 "cells": [
  {
   "cell_type": "markdown",
   "metadata": {},
   "source": [
    "# UDP\n",
    "\n",
    "<img src='res/udp02.png' width=500px />\n",
    "\n",
    "<img src='res/udp01.png' width=500px />\n",
    "\n",
    "1. Hash table to store udp socks. key is the port `number & (UDP_HTABLE_SIZE - 1)`"
   ]
  },
  {
   "cell_type": "markdown",
   "metadata": {},
   "source": [
    "### static struct sock *udp_v4_lookup_longway\n",
    "\n",
    "```c\n",
    "/* UDP is nearly always wildcards out the wazoo, it makes no sense to try\n",
    " * harder than this. -DaveM\n",
    " */\n",
    "static struct sock *udp_v4_lookup_longway(u32 saddr, u16 sport,\n",
    "\t\t\t\t\t  u32 daddr, u16 dport, int dif)\n",
    "{\n",
    "\tstruct sock *sk, *result = NULL;\n",
    "\tstruct hlist_node *node;\n",
    "\tunsigned short hnum = ntohs(dport);\n",
    "\tint badness = -1;\n",
    "\n",
    "\tsk_for_each(sk, node, &udp_hash[hnum & (UDP_HTABLE_SIZE - 1)]) {\n",
    "\t\tstruct inet_sock *inet = inet_sk(sk);\n",
    "\n",
    "\t\tif (inet->num == hnum && !ipv6_only_sock(sk)) {\n",
    "\t\t\tint score = (sk->sk_family == PF_INET ? 1 : 0);\n",
    "\t\t\tif (inet->rcv_saddr) {\n",
    "\t\t\t\tif (inet->rcv_saddr != daddr)\n",
    "\t\t\t\t\tcontinue;\n",
    "\t\t\t\tscore+=2;\n",
    "\t\t\t}\n",
    "\t\t\tif (inet->daddr) {\n",
    "\t\t\t\tif (inet->daddr != saddr)\n",
    "\t\t\t\t\tcontinue;\n",
    "\t\t\t\tscore+=2;\n",
    "\t\t\t}\n",
    "\t\t\tif (inet->dport) {\n",
    "\t\t\t\tif (inet->dport != sport)\n",
    "\t\t\t\t\tcontinue;\n",
    "\t\t\t\tscore+=2;\n",
    "\t\t\t}\n",
    "\t\t\tif (sk->sk_bound_dev_if) {\n",
    "\t\t\t\tif (sk->sk_bound_dev_if != dif)\n",
    "\t\t\t\t\tcontinue;\n",
    "\t\t\t\tscore+=2;\n",
    "\t\t\t}\n",
    "\t\t\t/* xitongsys\n",
    "\t\t\tscore == 9，所有条件都满足，直接返回\n",
    "\t\t\t*/\n",
    "\t\t\tif(score == 9) { \n",
    "\t\t\t\tresult = sk;\n",
    "\t\t\t\tbreak;\n",
    "\t\t\t} else if(score > badness) { //xitongsys： 找到匹配最多（score最大）的sock\n",
    "\t\t\t\tresult = sk;\n",
    "\t\t\t\tbadness = score;\n",
    "\t\t\t}\n",
    "\t\t}\n",
    "\t}\n",
    "\treturn result;\n",
    "}\n",
    "```\n",
    "\n",
    "1. 从hash表中查找匹配的sock。因为一个port可以绑定多个sock对象，这里采用了最有匹配。"
   ]
  }
 ],
 "metadata": {
  "language_info": {
   "name": "python"
  }
 },
 "nbformat": 4,
 "nbformat_minor": 2
}

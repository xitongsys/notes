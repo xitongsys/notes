{
 "cells": [
  {
   "cell_type": "markdown",
   "metadata": {},
   "source": [
    "# Endianness\n",
    "\n",
    "1. Little-Endian: 任何一个变量在存储的时候（可以是byte，也可以是int等），都是低bit地址位置存低位。Big-Endian 正好相反（注意，这里是bit位置，整个都是反转的）\n",
    "\n",
    "2. 不同硬件在传输的过程中，比如big -> little，其会把每个byte里的bit都反转。注意，其并不需要区分变量类型具体是int，还是byte，其只是把每个byte的bit位置都反转。所以对与int32来讲，每个字节内部都反转了，但是字节间还是逆序的。字节间的反转是软件层面去做的。\n",
    "\n",
    "之所以这样，是因为 1.字节内的反转，软件做太难太耗时，字节间的反转软件可以做。2. 硬件不需要知道每个变量类型，简单的byte内反转就行了。比如int，如果要全反转，必须知道这是个4byte的变量\n",
    "\n",
    "3. \n",
    "\n",
    "<img src=\"res/endianness01.png\" width='500px'>\n",
    "\n",
    "```c\n",
    "\n",
    "struct iphdr {\n",
    "#if defined(__LITTLE_ENDIAN_BITFIELD)\n",
    "\t__u8\tihl:4,\n",
    "\t\tversion:4;\n",
    "#elif defined (__BIG_ENDIAN_BITFIELD)\n",
    "\t__u8\tversion:4,\n",
    "  \t\tihl:4;\n",
    "#else\n",
    "#error\t\"Please fix <asm/byteorder.h>\"\n",
    "#endif\n",
    "\t__u8\ttos;\n",
    "\t__be16\ttot_len;\n",
    "\t__be16\tid;\n",
    "\t__be16\tfrag_off;\n",
    "\t__u8\tttl;\n",
    "\t__u8\tprotocol;\n",
    "\t__sum16\tcheck;\n",
    "\t__be32\tsaddr;\n",
    "\t__be32\tdaddr;\n",
    "\t/*The options start here. */\n",
    "};\n",
    "\n",
    "```\n",
    "\n",
    "关于这个version/ihl的顺序的原因如下\n",
    "\n",
    "1. network采用的是big-endian的顺序，所以软件层面读到的packet，每个字节内部的bits已经作了反转。对于像saddr/daddr这种4byte的字段，只需要字节层面反转就行了\n",
    "\n",
    "2. version/ihl这两个字段在一个byte里，在big-endian里面，version在内存地址低位，ihl在内存地址高位，而反转之后，version会处在内存地址高位，而ihl在内存地址低位。这就是为何little-endian里面version在ihl后面。而其每个具体的bits顺序已经反转过了，直接使用就行了\n",
    "\n",
    "3. 具体可以参考 [](res/endianness02.jpeg)\n",
    "\n"
   ]
  }
 ],
 "metadata": {
  "language_info": {
   "name": "python"
  },
  "orig_nbformat": 4
 },
 "nbformat": 4,
 "nbformat_minor": 2
}

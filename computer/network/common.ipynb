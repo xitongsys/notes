{
 "cells": [
  {
   "cell_type": "markdown",
   "metadata": {},
   "source": [
    "# common things"
   ]
  },
  {
   "cell_type": "markdown",
   "metadata": {},
   "source": [
    "## list/hlist (linux2.6/include/linux/list.h)"
   ]
  },
  {
   "cell_type": "markdown",
   "metadata": {},
   "source": [
    "## include/linux/kernel.h\n",
    "\n",
    "```c\n",
    "/*\n",
    " * min()/max() macros that also do\n",
    " * strict type-checking.. See the\n",
    " * \"unnecessary\" pointer comparison.\n",
    " */\n",
    "#define min(x,y) ({ \\\n",
    "\ttypeof(x) _x = (x);\t\\\n",
    "\ttypeof(y) _y = (y);\t\\\n",
    "\t(void) (&_x == &_y);\t\t\\\n",
    "\t_x < _y ? _x : _y; })\n",
    "\n",
    "#define max(x,y) ({ \\\n",
    "\ttypeof(x) _x = (x);\t\\\n",
    "\ttypeof(y) _y = (y);\t\\\n",
    "\t(void) (&_x == &_y);\t\t\\\n",
    "\t_x > _y ? _x : _y; })\n",
    "\n",
    "/*\n",
    " * ..and if you can't take the strict\n",
    " * types, you can specify one yourself.\n",
    " *\n",
    " * Or not use min/max at all, of course.\n",
    " */\n",
    "#define min_t(type,x,y) \\\n",
    "\t({ type __x = (x); type __y = (y); __x < __y ? __x: __y; })\n",
    "#define max_t(type,x,y) \\\n",
    "\t({ type __x = (x); type __y = (y); __x > __y ? __x: __y; })\n",
    "```\n",
    "\n",
    "1. 编译期类型检查的宏 `(void) (&_x == &_y);`就是做类型检查\n",
    "\n",
    "2. 上面两个比较必须保证x，y类型一致。下面保证类型必须是type\n",
    "\n",
    "3. 下面是专门类型检查的宏\n",
    "\n",
    "```c\n",
    "/*\n",
    " * Check at compile time that something is of a particular type.\n",
    " * Always evaluates to 1 so you may use it easily in comparisons.\n",
    " */\n",
    "#define typecheck(type,x) \\\n",
    "({\ttype __dummy; \\\n",
    "\ttypeof(x) __dummy2; \\\n",
    "\t(void)(&__dummy == &__dummy2); \\\n",
    "\t1; \\\n",
    "})\n",
    "```\n",
    "\n",
    "---------"
   ]
  },
  {
   "cell_type": "markdown",
   "metadata": {},
   "source": [
    "```c\n",
    "经典的 container_of 宏\n",
    "\n",
    "/**\n",
    " * container_of - cast a member of a structure out to the containing structure\n",
    " *\n",
    " * @ptr:\tthe pointer to the member.\n",
    " * @type:\tthe type of the container struct this is embedded in.\n",
    " * @member:\tthe name of the member within the struct.\n",
    " *\n",
    " */\n",
    "#define container_of(ptr, type, member) ({\t\t\t\\\n",
    "        const typeof( ((type *)0)->member ) *__mptr = (ptr);\t\\\n",
    "        (type *)( (char *)__mptr - offsetof(type,member) );})\n",
    "```\n",
    "\n",
    "----------"
   ]
  }
 ],
 "metadata": {
  "language_info": {
   "name": "python"
  }
 },
 "nbformat": 4,
 "nbformat_minor": 2
}

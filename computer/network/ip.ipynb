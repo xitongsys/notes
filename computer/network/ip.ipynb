{
 "cells": [
  {
   "cell_type": "markdown",
   "metadata": {},
   "source": [
    "# IPv4"
   ]
  },
  {
   "cell_type": "markdown",
   "metadata": {},
   "source": [
    "<img src=\"res/ip01.png\" width=\"500px\">\n",
    "<img src=\"res/ip02.png\" width=\"500px\">\n",
    "<img src=\"res/ip03.png\" width=\"500px\">\n",
    "<img src=\"res/ip04.png\" width=\"500px\">\n",
    "<img src=\"res/ip05.png\" width=\"500px\">"
   ]
  },
  {
   "cell_type": "markdown",
   "metadata": {},
   "source": [
    "1. IP fragment/defragment 本身有一些问题，比如乱序，id重复，丢失等等。这些问题ip层面是解决不了的，只能依赖上层协议（比如tcp）"
   ]
  },
  {
   "cell_type": "markdown",
   "metadata": {},
   "source": [
    "<img src='res/ip06.png' width=500px>"
   ]
  },
  {
   "cell_type": "markdown",
   "metadata": {},
   "source": [
    "## linux2.6/net/ipv4/ip_fragment.c"
   ]
  },
  {
   "cell_type": "markdown",
   "metadata": {},
   "source": [
    "```c\n",
    "/* Describe an entry in the \"incomplete datagrams\" queue. */\n",
    "struct ipq {\n",
    "\tstruct ipq\t*next;\t\t/* linked list pointers\t\t\t*/\n",
    "\tstruct list_head lru_list;\t/* lru list member \t\t\t*/\n",
    "\tu32\t\tuser;\n",
    "\tu32\t\tsaddr;\n",
    "\tu32\t\tdaddr;\n",
    "\tu16\t\tid;\n",
    "\tu8\t\tprotocol;\n",
    "\tu8\t\tlast_in;\n",
    "#define COMPLETE\t\t4\n",
    "#define FIRST_IN\t\t2\n",
    "#define LAST_IN\t\t\t1\n",
    "\n",
    "\tstruct sk_buff\t*fragments;\t/* linked list of received fragments\t*/\n",
    "\tint\t\tlen;\t\t/* total length of original datagram\t*/\n",
    "\tint\t\tmeat;\n",
    "\tspinlock_t\tlock;\n",
    "\tatomic_t\trefcnt;\n",
    "\tstruct timer_list timer;\t/* when will this queue expire?\t\t*/\n",
    "\tstruct ipq\t**pprev;\n",
    "\tint\t\tiif;\n",
    "\tstruct timeval\tstamp;\n",
    "};\n",
    "```\n",
    "\n",
    "1. 这是一个双向链表的节点。有意思的点在于其 prev 的指针是一个指针的指针，存储的是prev节点中的next指针的地址。这个**实现很巧妙**\n",
    "\n",
    "2. 每个queue的头需要存在hash table中。如果hash table直接存放节点struct，每次增删，rehash，代价很大。所以只能存放节点指针\n",
    "\n",
    "3. 如果pprev不用 double 指针，那么每次操作比如删除，都要判断下当前是不是队列头，要对hash表中的位置进行单独操作。而用 double pointer，无论操作队列头还是中间节点，都是一样的\n",
    "\n",
    "4. 这其实是kernel中hash link的统一的数据结构\n",
    "\n",
    "```c\n",
    "// hash 桶中存放的指针类型\n",
    "struct hlist_head {\n",
    "\tstruct hlist_node *first;\n",
    "};\n",
    "\n",
    "// 队列的指针类型\n",
    "struct hlist_node {\n",
    "\tstruct hlist_node *next;\n",
    "\tstruct hlist_node **pprev;\n",
    "};\n",
    "```\n",
    "5. 具体可以参看 [kernel hlist](res/ip07.png)\n",
    "\n",
    "[kernel hlist详解](https://blog.csdn.net/hs794502825/article/details/24597773)\n",
    "\n",
    "-----------------------"
   ]
  }
 ],
 "metadata": {
  "language_info": {
   "name": "python"
  },
  "orig_nbformat": 4
 },
 "nbformat": 4,
 "nbformat_minor": 2
}

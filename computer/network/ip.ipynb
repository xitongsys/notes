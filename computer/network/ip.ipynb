{
 "cells": [
  {
   "cell_type": "markdown",
   "metadata": {},
   "source": [
    "# IPv4"
   ]
  },
  {
   "cell_type": "markdown",
   "metadata": {},
   "source": [
    "<img src=\"res/ip01.png\" width=\"500px\">\n",
    "<img src=\"res/ip02.png\" width=\"500px\">\n",
    "<img src=\"res/ip03.png\" width=\"500px\">\n",
    "<img src=\"res/ip04.png\" width=\"500px\">\n",
    "<img src=\"res/ip05.png\" width=\"500px\">"
   ]
  },
  {
   "cell_type": "markdown",
   "metadata": {},
   "source": [
    "1. IP fragment/defragment 本身有一些问题，比如乱序，id重复，丢失等等。这些问题ip层面是解决不了的，只能依赖上层协议（比如tcp）"
   ]
  }
 ],
 "metadata": {
  "language_info": {
   "name": "python"
  },
  "orig_nbformat": 4
 },
 "nbformat": 4,
 "nbformat_minor": 2
}

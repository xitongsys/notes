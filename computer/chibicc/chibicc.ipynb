{
 "cells": [
  {
   "attachments": {},
   "cell_type": "markdown",
   "metadata": {},
   "source": [
    "# [chibicc](https://github.com/rui314/chibicc)"
   ]
  },
  {
   "attachments": {},
   "cell_type": "markdown",
   "metadata": {},
   "source": [
    "## va_list, va_start, va_arg\n",
    "\n",
    "```c\n",
    "// Takes a printf-style format string and returns a formatted string.\n",
    "char *format(char *fmt, ...) {\n",
    "  char *buf;\n",
    "  size_t buflen;\n",
    "  FILE *out = open_memstream(&buf, &buflen);\n",
    "\n",
    "  va_list ap;\n",
    "  va_start(ap, fmt);\n",
    "  vfprintf(out, fmt, ap);\n",
    "  va_end(ap);\n",
    "  fclose(out);\n",
    "  return buf;\n",
    "}\n",
    "```"
   ]
  },
  {
   "attachments": {},
   "cell_type": "markdown",
   "metadata": {},
   "source": [
    "1. va_* 这几个宏原理就是移动指针，如下\n",
    "\n",
    "```c\n",
    "typedef unsigned char *va_list;\n",
    "#define va_start(list, param) (list = (((va_list)&param) + sizeof(param)))\n",
    "#define va_arg(list, type)    (*(type *)((list += sizeof(type)) - sizeof(type)))\n",
    "\n",
    "```\n",
    "\n",
    "只不过在GCC里不是明确用宏定义的，而是内建函数\n",
    "\n",
    "\n",
    "![](resources/01.png)"
   ]
  },
  {
   "attachments": {},
   "cell_type": "markdown",
   "metadata": {},
   "source": [
    "## tokenize.c\n",
    "\n",
    "```c\n",
    "// Tokenize a given string and returns new tokens.\n",
    "Token *tokenize(File *file) {\n",
    "  current_file = file;\n",
    "\n",
    "  char *p = file->contents;\n",
    "  Token head = {};\n",
    "  Token *cur = &head;\n",
    "\n",
    "  at_bol = true;\n",
    "  has_space = false;\n",
    "\n",
    "  while (*p) {\n",
    "    // Skip line comments.\n",
    "    if (startswith(p, \"//\")) {\n",
    "      p += 2;\n",
    "      while (*p != '\\n')\n",
    "        p++;\n",
    "      has_space = true;\n",
    "      continue;\n",
    "    }\n",
    "\n",
    "    // Skip block comments.\n",
    "    if (startswith(p, \"/*\")) {\n",
    "      char *q = strstr(p + 2, \"*/\");\n",
    "      if (!q)\n",
    "        error_at(p, \"unclosed block comment\");\n",
    "      p = q + 2;\n",
    "      has_space = true;\n",
    "      continue;\n",
    "    }\n",
    "\n",
    "    // Skip newline.\n",
    "    if (*p == '\\n') {\n",
    "      p++;\n",
    "      at_bol = true;\n",
    "      has_space = false;\n",
    "      continue;\n",
    "    }\n",
    "\n",
    "    // Skip whitespace characters.\n",
    "    if (isspace(*p)) {\n",
    "      p++;\n",
    "      has_space = true;\n",
    "      continue;\n",
    "    }\n",
    "\n",
    "    // Numeric literal\n",
    "    if (isdigit(*p) || (*p == '.' && isdigit(p[1]))) {\n",
    "      char *q = p++;\n",
    "      for (;;) {\n",
    "        if (p[0] && p[1] && strchr(\"eEpP\", p[0]) && strchr(\"+-\", p[1]))\n",
    "          p += 2;\n",
    "        else if (isalnum(*p) || *p == '.')\n",
    "          p++;\n",
    "        else\n",
    "          break;\n",
    "      }\n",
    "      cur = cur->next = new_token(TK_PP_NUM, q, p);\n",
    "      continue;\n",
    "    }\n",
    "\n",
    "```\n",
    "\n",
    "把文件token化，比较简单，主要就几种情况\n",
    "\n",
    "1.注释 2.换行 3.空白 4.数字常量 5.字符串常量 6.关键字 7.运算符"
   ]
  },
  {
   "attachments": {},
   "cell_type": "markdown",
   "metadata": {},
   "source": [
    "## preprocess.c"
   ]
  },
  {
   "attachments": {},
   "cell_type": "markdown",
   "metadata": {},
   "source": [
    "## some functions\n",
    "\n",
    "```c\n",
    "/* Open a stream that writes into a malloc'd buffer that is expanded as\n",
    "   necessary.  *BUFLOC and *SIZELOC are updated with the buffer's location\n",
    "   and the number of characters written on fflush or fclose.  */\n",
    "extern FILE *open_memstream (char **__bufloc, size_t *__sizeloc) __THROW\n",
    "  __attribute_malloc__ __attr_dealloc_fclose __wur;\n",
    "```"
   ]
  }
 ],
 "metadata": {
  "language_info": {
   "name": "python"
  },
  "orig_nbformat": 4
 },
 "nbformat": 4,
 "nbformat_minor": 2
}

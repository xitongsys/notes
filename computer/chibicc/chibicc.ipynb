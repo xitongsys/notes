{
 "cells": [
  {
   "attachments": {},
   "cell_type": "markdown",
   "metadata": {},
   "source": [
    "# [chibicc](https://github.com/rui314/chibicc)"
   ]
  },
  {
   "attachments": {},
   "cell_type": "markdown",
   "metadata": {},
   "source": [
    "## va_list, va_start, va_arg\n",
    "\n",
    "```c\n",
    "// Takes a printf-style format string and returns a formatted string.\n",
    "char *format(char *fmt, ...) {\n",
    "  char *buf;\n",
    "  size_t buflen;\n",
    "  FILE *out = open_memstream(&buf, &buflen);\n",
    "\n",
    "  va_list ap;\n",
    "  va_start(ap, fmt);\n",
    "  vfprintf(out, fmt, ap);\n",
    "  va_end(ap);\n",
    "  fclose(out);\n",
    "  return buf;\n",
    "}\n",
    "```"
   ]
  },
  {
   "attachments": {},
   "cell_type": "markdown",
   "metadata": {},
   "source": [
    "1. va_* 这几个宏原理就是移动指针，如下\n",
    "\n",
    "```c\n",
    "typedef unsigned char *va_list;\n",
    "#define va_start(list, param) (list = (((va_list)&param) + sizeof(param)))\n",
    "#define va_arg(list, type)    (*(type *)((list += sizeof(type)) - sizeof(type)))\n",
    "\n",
    "```\n",
    "\n",
    "只不过在GCC里不是明确用宏定义的，而是内建函数\n",
    "\n",
    "\n",
    "![](resources/01.png)"
   ]
  }
 ],
 "metadata": {
  "language_info": {
   "name": "python"
  },
  "orig_nbformat": 4
 },
 "nbformat": 4,
 "nbformat_minor": 2
}

{
 "cells": [
  {
   "cell_type": "markdown",
   "metadata": {},
   "source": [
    "## 精简segment tree\n",
    "\n",
    "如果将segment tree的节点数设定为2的次方，可以精简不少\n",
    "\n",
    "<img src='segtree01.PNG' width='800px' />\n",
    "\n"
   ]
  },
  {
   "cell_type": "code",
   "execution_count": null,
   "metadata": {
    "vscode": {
     "languageId": "plaintext"
    }
   },
   "outputs": [],
   "source": [
    "class SegTreeSum:\n",
    "    def __init__(self, n):\n",
    "        self.n,  self.h  = n, n.bit_length()\n",
    "        self.vs, self.ds = [0]*2*n, [0]*2*n\n",
    "        self.M = 1<<(self.h-1)\n",
    "        \n",
    "    def node_bound(self, node):\n",
    "        d = self.h - node.bit_length()\n",
    "        b,e = (node<<d)^self.M, ((node<<d)|((1<<d)-1))^self.M\n",
    "        m = (b+e)>>1\n",
    "        return b,e,m\n",
    "    \n",
    "        \n",
    "    def pushdown(self, node=1):\n",
    "        nb,ne,nm = self.node_bound(node)\n",
    "        d = self.ds[node]\n",
    "        self.vs[node] += (ne-nb+1)*d\n",
    "        if ne>nb: self.ds[(node<<1)] += d; self.ds[(node<<1)+1] += d\n",
    "        self.ds[node] = 0\n",
    "        \n",
    "                \n",
    "    def add(self, b, e, val, node=1):\n",
    "        if b>e: return\n",
    "        nb,ne,nm = self.node_bound(node)\n",
    "        if (nb==b) and (ne==e): self.ds[node] += val; return\n",
    "        self.pushdown()\n",
    "        self.vs[node] += (e-b+1)*val\n",
    "        self.add(b, min(e,nm), val, (node<<1))\n",
    "        self.add(max(b,nm+1), e, val, (node<<1)+1)\n",
    "        \n",
    "        \n",
    "    def query(self, b, e, node=1):\n",
    "        if b>e: return 0\n",
    "        nb,ne,nm = self.node_bound(node)\n",
    "        self.pushdown(node)\n",
    "        if (nb==b) and (ne==e): return self.vs[node]\n",
    "        return self.query(b,min(e,nm),(node<<1)) + self.query(max(b,nm+1),e,(node<<1)+1)"
   ]
  }
 ],
 "metadata": {
  "kernelspec": {
   "display_name": "Python 3",
   "language": "python",
   "name": "python3"
  },
  "language_info": {
   "name": "python",
   "version": "3.11.4"
  }
 },
 "nbformat": 4,
 "nbformat_minor": 2
}

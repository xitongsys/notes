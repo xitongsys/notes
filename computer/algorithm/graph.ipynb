{
 "cells": [
  {
   "cell_type": "markdown",
   "metadata": {},
   "source": [
    "# graph"
   ]
  },
  {
   "cell_type": "markdown",
   "metadata": {},
   "source": [
    "## diameter of tree\n",
    "\n",
    "求tree的直径（即距离最长的两个点的长度），从任一点A出发，找到距离A最远的B，从B出发，找到距离B最远的C，那么B、C的距离就是直径\n",
    "\n",
    "证明：\n",
    "\n",
    "```\n",
    "            E\n",
    "           /\n",
    "          / \n",
    "C---A----O----------B\n",
    "        /\n",
    "       /\n",
    "      F\n",
    "```\n",
    "\n",
    "1. B 一定也是是距离C最远的点。如果还有一点D比B远，那么B就可以通过C到到D\n",
    "\n",
    "2. 既然C，B互为最远点，不妨假设 EF > CB，相交与点O，OB >= OC\n",
    "\n",
    "因为 max(OE,OF) >= EF/2，所以OB + max(OE,OF) >= OB + EF/2 > OB + (CB/2) > OB + (OC+OB)/2 >= OB + (OC+OC)/2 >= CB\n",
    "\n",
    "所以OB + max(OE+OF) > CB，C一定不是距离B最远的点，矛盾。\n",
    "\n",
    "另外一种相交的情况如下，一样的证明\n",
    "\n",
    "```\n",
    "     E----------F\n",
    "           /\n",
    "          / \n",
    "C---A----O----------B\n",
    "\n",
    "```\n",
    "\n",
    "**注意：这种方法对图是无效的，比如下面的反例** \n",
    "\n",
    "<img src=\"graph01.png\" width=500px />\n",
    "\n",
    "---------------"
   ]
  }
 ],
 "metadata": {
  "language_info": {
   "name": "python"
  }
 },
 "nbformat": 4,
 "nbformat_minor": 2
}

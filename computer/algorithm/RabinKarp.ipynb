{
 "cells": [
  {
   "attachments": {},
   "cell_type": "markdown",
   "metadata": {},
   "source": [
    "# Rabin-Karp algorithm\n",
    "\n",
    "[wiki](https://en.wikipedia.org/wiki/Rabin%E2%80%93Karp_algorithm)\n",
    "\n",
    "Using rolling hash to search string pattern.\n",
    "\n",
    "## algo\n",
    "\n",
    "```js\n",
    "function RabinKarp(string s[1..n], string pattern[1..m])\n",
    "    hpattern := hash(pattern[1..m]);\n",
    "    for i from 1 to n-m+1\n",
    "        hs := hash(s[i..i+m-1])\n",
    "        if hs = hpattern\n",
    "            if s[i..i+m-1] = pattern[1..m]\n",
    "                return i\n",
    "    return not found\n",
    "```\n",
    "\n",
    "## hash function\n",
    "\n",
    "![](RabinKarp01.png)"
   ]
  }
 ],
 "metadata": {
  "language_info": {
   "name": "python"
  },
  "orig_nbformat": 4
 },
 "nbformat": 4,
 "nbformat_minor": 2
}

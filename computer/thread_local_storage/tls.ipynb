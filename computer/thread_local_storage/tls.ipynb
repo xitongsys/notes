{
 "cells": [
  {
   "attachments": {},
   "cell_type": "markdown",
   "metadata": {},
   "source": [
    "# Thread Local Storage (TLS)\n",
    "\n",
    "![](tls02.png)\n",
    "![](tls01.png)\n",
    "\n",
    "[source](https://chao-tic.github.io/blog/2018/12/25/tls)\n",
    "\n",
    "\n",
    "---------------------"
   ]
  }
 ],
 "metadata": {
  "language_info": {
   "name": "python"
  },
  "orig_nbformat": 4
 },
 "nbformat": 4,
 "nbformat_minor": 2
}

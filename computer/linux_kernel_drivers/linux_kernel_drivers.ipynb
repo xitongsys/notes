{
 "cells": [
  {
   "cell_type": "markdown",
   "metadata": {},
   "source": [
    "# Linux Kernel Drivers"
   ]
  },
  {
   "cell_type": "markdown",
   "metadata": {},
   "source": [
    "## Chapter 2\n",
    "\n",
    "<img src='res/01.png' width=500px />\n",
    "<img src='res/02.png', width=500px />"
   ]
  },
  {
   "cell_type": "markdown",
   "metadata": {},
   "source": [
    "```c\n",
    "struct kernel_symbol\n",
    "{\n",
    "\tunsigned long value;\n",
    "\tconst char *name;\n",
    "};\n",
    "\n",
    "#define __EXPORT_SYMBOL(sym, sec)\t\t\t\t\\\n",
    "\t__CRC_SYMBOL(sym, sec)\t\t\t\t\t\\\n",
    "\tstatic const char __kstrtab_##sym[]\t\t\t\\\n",
    "\t__attribute__((section(\"__ksymtab_strings\")))\t\t\\\n",
    "\t= MODULE_SYMBOL_PREFIX #sym;                    \t\\\n",
    "\tstatic const struct kernel_symbol __ksymtab_##sym\t\\\n",
    "\t__attribute_used__\t\t\t\t\t\\\n",
    "\t__attribute__((section(\"__ksymtab\" sec), unused))\t\\\n",
    "\t= { (unsigned long)&sym, __kstrtab_##sym }\n",
    "\n",
    "#define EXPORT_SYMBOL(sym)\t\t\t\t\t\\\n",
    "\t__EXPORT_SYMBOL(sym, \"\")\n",
    "\n",
    "#define EXPORT_SYMBOL_GPL(sym)\t\t\t\t\t\\\n",
    "\t__EXPORT_SYMBOL(sym, \"_gpl\")\n",
    "\n",
    "```\n",
    "\n",
    "1. 每个kernel symbol有两部分，一个是值，一个是name，分别再 `__ksymtab_strings` 段 和 `__ksymtab` 段\n",
    "\n",
    "<hr style='border-bottom: dashed 1px' />"
   ]
  },
  {
   "cell_type": "markdown",
   "metadata": {},
   "source": [
    "## Chapter 3: Char Drivers\n",
    "\n",
    "<img src='res/03.png' width=500px />\n",
    "<img src='res/04.png' width=500px />"
   ]
  },
  {
   "cell_type": "markdown",
   "metadata": {},
   "source": [
    "```c\n",
    "#define MINORBITS\t20\n",
    "#define MINORMASK\t((1U << MINORBITS) - 1)\n",
    "\n",
    "#define MAJOR(dev)\t((unsigned int) ((dev) >> MINORBITS))\n",
    "#define MINOR(dev)\t((unsigned int) ((dev) & MINORMASK))\n",
    "#define MKDEV(ma,mi)\t(((ma) << MINORBITS) | (mi))\n",
    "```"
   ]
  },
  {
   "cell_type": "markdown",
   "metadata": {},
   "source": [
    "<img src='res/05.png' width=500px />"
   ]
  }
 ],
 "metadata": {
  "language_info": {
   "name": "python"
  }
 },
 "nbformat": 4,
 "nbformat_minor": 2
}

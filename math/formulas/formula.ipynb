{
 "cells": [
  {
   "cell_type": "markdown",
   "metadata": {},
   "source": [
    "# Math Formulas"
   ]
  },
  {
   "cell_type": "markdown",
   "metadata": {},
   "source": [
    "## 矩阵 Trace\n",
    "\n",
    "1. $Trace(A) = Trace(A^T)$\n",
    "\n",
    "2. 轮转不变：$Trace(AB) = Trace(BA)$\n",
    "\n",
    "3. $Trace(A) = \\Sigma \\lambda_i$，$\\lambda_i$ 为A的特征根\n",
    "\n",
    "    任意方阵都相似与某个Jordan标准型，$A = P^{-1} J P => Trace(A) = Trace(P^{-1} J P) = Trace(J P P^{-1}) = Trace(J) = \\Sigma \\lambda_i$\n",
    "\n",
    "4. $x,y$ 为列向量，$Trace(x y^T) = y^T x$\n",
    "\n",
    "5. $\\frac{d\\ tr(AB)}{dA} = B^T$\n",
    "\n",
    "6. $\\frac{d\\ tr(ABA^T)}{dA} = 2AB$"
   ]
  }
 ],
 "metadata": {
  "language_info": {
   "name": "python"
  }
 },
 "nbformat": 4,
 "nbformat_minor": 2
}

{
 "cells": [
  {
   "attachments": {},
   "cell_type": "markdown",
   "metadata": {},
   "source": [
    "# Linear Regression"
   ]
  },
  {
   "attachments": {},
   "cell_type": "markdown",
   "metadata": {},
   "source": [
    "证明1：若矩阵A列向量线性无关，则$M=A^TA$为可逆方阵\n",
    "\n",
    "要证可逆，只要证明$MX = 0 => X=0$\n",
    "\n",
    "$$\n",
    "\n",
    "A^T A X = 0 => \\\\\n",
    "\n",
    "X^T A^T A X = 0 => \\\\\n",
    "\n",
    "(AX)^T(AX) = 0 => \\\\\n",
    "\n",
    "AX = 0 => \\\\\n",
    "\n",
    "X = 0\n",
    "$$\n"
   ]
  }
 ],
 "metadata": {
  "language_info": {
   "name": "python"
  },
  "orig_nbformat": 4
 },
 "nbformat": 4,
 "nbformat_minor": 2
}

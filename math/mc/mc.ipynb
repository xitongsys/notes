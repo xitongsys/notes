{
 "cells": [
  {
   "attachments": {},
   "cell_type": "markdown",
   "metadata": {},
   "source": [
    "# Monte Carlo \n",
    "\n",
    "[ref1](https://zhuanlan.zhihu.com/p/37121528)"
   ]
  },
  {
   "attachments": {},
   "cell_type": "markdown",
   "metadata": {},
   "source": [
    "![](01.jpg)\n",
    "![](02.jpg)\n",
    "![](03.jpg)"
   ]
  },
  {
   "attachments": {},
   "cell_type": "markdown",
   "metadata": {},
   "source": [
    "![](04.png)\n",
    "![](05.png)\n",
    "![](06.png)"
   ]
  },
  {
   "attachments": {},
   "cell_type": "markdown",
   "metadata": {},
   "source": [
    "1. 其实 $P(i,j) = Q(i,j)\\alpha(i,j)$ 可以直接用来做状态转移，和用$\\alpha(i,j)$做拒绝是一样的。\n",
    "因为$\\sum_j Q(i, j) = 1$,$\\alpha(i,j) <= 1$,所以$\\sum_jP(i,j) < 1$。也就是P并不是一个完整的转移矩阵。会有一定概率不转移（就是上面的d步骤）\n",
    "\n",
    "2. 上面的1其实是不确切的。我们之所以需要马尔可夫来采样，就是因为目标分布$\\pi$不容易实现（如果容易实现，直接采样就好了），而我们选择的$Q(i,j)$是容易实现的，而且不需要满足细致平稳条件。如果我们得到的$Q(i,j)\\alpha(i,j)$也容易实现，那么上面1所说的就可以实现。但是往往并不容易实现。所以就采用了这种拒绝采样的模式"
   ]
  },
  {
   "attachments": {},
   "cell_type": "markdown",
   "metadata": {},
   "source": [
    "![](07.png)"
   ]
  },
  {
   "attachments": {},
   "cell_type": "markdown",
   "metadata": {},
   "source": [
    "![](08.png)\n",
    "![](09.png)\n",
    "![](10.png)\n",
    "![](11.png)\n"
   ]
  },
  {
   "attachments": {},
   "cell_type": "markdown",
   "metadata": {},
   "source": [
    "1. Gibbs 采样主要是为了解决高维难题。其实从上面的推导可以看出，我们直接用$\\pi(x1,y2)$和$\\pi(x1,y1)$做状态转移矩阵即可。但是这个是难以实现的。因为这就是我们的目标采样分布。我们退而求其次，只要求实现单变量的条件概率分布采样即可。这个就是把高维问题转变成一维问题。而一维问题根据前面所说的，我们可以实现任意的采样。从而解决了高维采样的问题"
   ]
  }
 ],
 "metadata": {
  "kernelspec": {
   "display_name": "py310",
   "language": "python",
   "name": "python3"
  },
  "language_info": {
   "codemirror_mode": {
    "name": "ipython",
    "version": 3
   },
   "file_extension": ".py",
   "mimetype": "text/x-python",
   "name": "python",
   "nbconvert_exporter": "python",
   "pygments_lexer": "ipython3",
   "version": "3.10.8"
  },
  "orig_nbformat": 4,
  "vscode": {
   "interpreter": {
    "hash": "1be8c8bdc6fd86eebde1498154837c0fcc29bda10079a062db8bdccc6e4e2b17"
   }
  }
 },
 "nbformat": 4,
 "nbformat_minor": 2
}

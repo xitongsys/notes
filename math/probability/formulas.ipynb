{
 "cells": [
  {
   "cell_type": "markdown",
   "metadata": {},
   "source": [
    "# 一些公式的推导\n",
    "\n",
    "<img src='res_formulas/01.jpg' width=500px>\n",
    "<img src='res_formulas/02.jpg' width=500px>\n",
    "<img src='res_formulas/03.jpg' width=500px>"
   ]
  }
 ],
 "metadata": {
  "language_info": {
   "name": "python"
  },
  "orig_nbformat": 4
 },
 "nbformat": 4,
 "nbformat_minor": 2
}

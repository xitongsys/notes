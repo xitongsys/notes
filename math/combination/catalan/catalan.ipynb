{
 "cells": [
  {
   "cell_type": "markdown",
   "metadata": {},
   "source": [
    "# Catalan\n",
    "\n",
    "[神奇的卡特兰数](https://zhuanlan.zhihu.com/p/385994583)\n",
    "\n",
    "![](01.jpeg)"
   ]
  }
 ],
 "metadata": {
  "language_info": {
   "name": "python"
  }
 },
 "nbformat": 4,
 "nbformat_minor": 2
}

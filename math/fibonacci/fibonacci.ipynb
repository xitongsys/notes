{
 "cells": [
  {
   "cell_type": "markdown",
   "metadata": {},
   "source": [
    "# Fibonacci 相关整理\n",
    "\n",
    "[REF](https://zhuanlan.zhihu.com/p/369768933)\n",
    "\n",
    "![](res/01.jpeg)"
   ]
  }
 ],
 "metadata": {
  "language_info": {
   "name": "python"
  }
 },
 "nbformat": 4,
 "nbformat_minor": 2
}

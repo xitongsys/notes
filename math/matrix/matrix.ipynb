{
 "cells": [
  {
   "attachments": {},
   "cell_type": "markdown",
   "metadata": {},
   "source": [
    "# Matrix 相关\n",
    "\n",
    "[ref1_luijianping](https://www.cnblogs.com/pinard/p/10750718.html)"
   ]
  },
  {
   "attachments": {},
   "cell_type": "markdown",
   "metadata": {},
   "source": [
    "![](01.png)\n",
    "![](02.png)\n",
    "![](03.png)\n",
    "![](04.png)\n",
    "![](05.png)\n",
    "![](06.png)\n",
    "![](07.png)\n",
    "![](08.png)"
   ]
  }
 ],
 "metadata": {
  "language_info": {
   "name": "python"
  },
  "orig_nbformat": 4
 },
 "nbformat": 4,
 "nbformat_minor": 2
}

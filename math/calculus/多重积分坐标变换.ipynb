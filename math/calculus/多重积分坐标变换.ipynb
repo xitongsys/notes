{
 "cells": [
  {
   "cell_type": "markdown",
   "metadata": {},
   "source": [
    "# 多重积分坐标变换\n",
    "\n",
    "![](resources/01.png)"
   ]
  },
  {
   "cell_type": "markdown",
   "metadata": {},
   "source": [
    "## 证明 （我的直观证明，不严格）\n",
    "\n",
    "以2重积分为例 $\\int\\int f(x(u,v),y(u,v))dxdy$，要将$dxdy->dudv$。其实就是求在(x,y)空间中的一个面元是(u,v)空间的多少倍\n",
    "\n",
    "考虑在(x,y)空间中，dx的含义是沿着x轴变化了dx，这其实是个向量。那么这个向量在(u,v)空间中就是$r_x=(x'_u du, x'_v dv)$，同理dy的向量就是$r_y=(y'_u du, y'_v dv)$。这个两个向量所张成的面积就是$ds = r_x \\times r_y$ (叉乘)，根据公式\n",
    "\n",
    "![](resources/02.png)\n",
    "\n",
    "就得到了上面的雅可比行列式(注意这里要取绝对值，面积都是正的)\n"
   ]
  }
 ],
 "metadata": {
  "language_info": {
   "name": "python"
  },
  "orig_nbformat": 4
 },
 "nbformat": 4,
 "nbformat_minor": 2
}

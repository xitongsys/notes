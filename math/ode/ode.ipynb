{
 "cells": [
  {
   "cell_type": "markdown",
   "metadata": {},
   "source": [
    "# ODE 常微分方程\n",
    "\n",
    "具体看[下文](https://swordandtea.github.io/2020/02/14/math/calculus/%E5%B8%B8%E5%BE%AE%E5%88%86%E6%96%B9%E7%A8%8B%E7%9A%84%E8%A7%A3/)\n",
    "\n",
    "1. 对于 $y' + p(x)y = q(x)$ 这种形式公式的推导如下\n",
    "\n",
    "可以将左边看作两个函数相乘之后的导数。因此将左边凑出这样的形式。设两边同时乘以$f(x)$得到\n",
    "\n",
    "$f(x)y' + f(x)p(x)y = f(x)p(x)$\n",
    "\n",
    "左边看作 $(f(x)y)'$ 得到 $f'(x) = f(x)p(x)$ 因此求得 $f(x) = C e^{\\int p(x)dx}$\n",
    "\n",
    "而原方程为 $(f(x)y)' = f(x)p(x)$，有\n",
    "\n",
    "$$\n",
    "f(x)y = \\int f(x)p(x)dx + C  \\\\\n",
    "\n",
    "y = f^{-1}(x) \\int f(x)p(x)dx = e^{-\\int p(x)dx} \\int (e^{\\int p(x)dx}p(x) + C)dx\n",
    "$$"
   ]
  },
  {
   "cell_type": "markdown",
   "metadata": {},
   "source": [
    "![](01.jpg)"
   ]
  }
 ],
 "metadata": {
  "language_info": {
   "name": "python"
  },
  "orig_nbformat": 4
 },
 "nbformat": 4,
 "nbformat_minor": 2
}

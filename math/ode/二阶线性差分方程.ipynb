{
 "cells": [
  {
   "cell_type": "markdown",
   "metadata": {},
   "source": [
    "# 二阶线性差分方程\n",
    "\n",
    "$y_{x+2} + py_{x+1} + qy_x = 0$\n",
    "\n",
    "设前进算子为B，即$By_x = y_{x+1}$，所以上式就可以写为\n",
    "\n",
    "$(B^2 + pB + q)y_x = 0$\n",
    "\n",
    "* $p^2 - 4q > 0$，设两个解为 $b_1, b_2$，则 $y_x = b_1 y_{x-1} = b_1^2 y_{x-2} = ... = C_1b_1^x$ 或者 $y_x = b_2 y_{x-1} = b_2^2 y_{x-2} = ... = C_2b_2^x$，这两个解的线性组合依然满足第推式，所以解为：$y_x = C_1b_1^x + C_2b_2^x$\n",
    "\n",
    "\n",
    "* $p^2 - 4q < 0$，设两个解 $b_1=re^{i\\theta}, b_2=re^{-i\\theta}$为共轭复数，则 $y_x = b_1 y_{x-1} = b_1^2 y_{x-2} = ... = C_1 r^xe^{ix\\theta}$ 或者 $y_x = b_2 y_{x-1} = b_2^2 y_{x-2} = ... = C_2 r^x e^{-ix\\theta}$，这两个解的线性组合依然满足第推式，所以解为：$y_x = r^x(C_1 e^{ix\\theta} + C_2 e^{-ix\\theta})$ = $r^x(C_1 cos(x\\theta) + iC_2 sin(x\\theta))$ 其中实数部分和虚数部分都满足方程，所以其解为 $y_x = r^x(C_1 cos(x\\theta) + C_2 sin(x\\theta))$\n",
    "\n",
    "* $p^2 - 4q = 0$，设解为$b = -\\frac{p}{2}$，则其解为 $y_x = (C_1 + C_2 x)b^x$\n",
    "\n",
    "\n",
    "![](02.png)"
   ]
  }
 ],
 "metadata": {
  "language_info": {
   "name": "python"
  },
  "orig_nbformat": 4
 },
 "nbformat": 4,
 "nbformat_minor": 2
}

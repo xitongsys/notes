{
 "cells": [
  {
   "cell_type": "markdown",
   "metadata": {},
   "source": [
    "# stochastic process\n",
    "\n",
    "[应用随机过程，总结的不错](https://www.zhihu.com/column/c_1339295128973422592)\n",
    "\n",
    "[应用随机过程_林元烈](res/应用随机过程_林元烈.pdf)"
   ]
  },
  {
   "cell_type": "markdown",
   "metadata": {},
   "source": [
    "![](res/01.png)\n"
   ]
  },
  {
   "cell_type": "markdown",
   "metadata": {},
   "source": [
    "证明：\n",
    "$E[(tX-Y)^2] = E[t^2X^2+Y^2-2tXY] = tE[X^2] + E[Y^2] -2tE[XY]$ \n",
    "\n",
    "看作t的2次函数，$\\Delta <= 0$，得证"
   ]
  },
  {
   "cell_type": "markdown",
   "metadata": {},
   "source": [
    "![](res/02.png)"
   ]
  }
 ],
 "metadata": {
  "language_info": {
   "name": "python"
  },
  "orig_nbformat": 4
 },
 "nbformat": 4,
 "nbformat_minor": 2
}

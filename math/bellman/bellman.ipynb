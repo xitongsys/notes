{
 "cells": [
  {
   "attachments": {},
   "cell_type": "markdown",
   "metadata": {},
   "source": [
    "# Bellman Equation\n",
    "\n",
    "![](bellman01.png)\n",
    "![](bellman02.png)\n",
    "![](bellman03.png)\n",
    "\n",
    "------------------------"
   ]
  },
  {
   "attachments": {},
   "cell_type": "markdown",
   "metadata": {},
   "source": [
    "## Reinforcement Learning: Q-table to solve Maze \n",
    "\n",
    "[reference](https://github.com/simoninithomas/Deep_reinforcement_learning_Course/blob/master/Q%20learning/FrozenLake/Q%20Learning%20with%20FrozenLake.ipynb)"
   ]
  },
  {
   "cell_type": "code",
   "execution_count": 33,
   "metadata": {},
   "outputs": [],
   "source": [
    "# reinforcement learning: Maze\n",
    "\n",
    "MAZE = [\n",
    "    [0, 0, 1, 0, 0, 0],\n",
    "    [1, 0, 0, 0, 1, 0],\n",
    "    [1, 1, 1, 0, 1, 0],\n",
    "    [0, 1, 0, 0, 0, 0],\n",
    "    [0, 0, 1, 1, 0, 1],\n",
    "    [0, 0, 0, 0, 0, 0],\n",
    "]\n",
    "\n",
    "\n",
    "import numpy as np\n",
    "import random\n",
    "\n",
    "R, C = len(MAZE), len(MAZE[0])\n",
    "\n",
    "# Define the rewards for every step\n",
    "ACTIONS = [[1,0], [-1,0], [0,-1], [0,1]]\n",
    "ACTIONS_STR = ['v', '^', '<', '>']\n",
    "REWARDS = np.zeros((R, C))\n",
    "for i in range(R):\n",
    "    for j in range(C):\n",
    "        if MAZE[i][j] == 0:\n",
    "            r = -1\n",
    "        elif MAZE[i][j] == 1:\n",
    "            r = -100\n",
    "        REWARDS[i][j] = r\n",
    "REWARDS[R-1][C-1] = 10000\n",
    "\n",
    "def go_one_step(state:int, action:int):\n",
    "    i, j = state//C, state%C\n",
    "    ii, jj = i + ACTIONS[action][0], j + ACTIONS[action][1]\n",
    "    new_state = ii * C + jj\n",
    "    r = REWARDS[ii][jj]\n",
    "    done = False\n",
    "    if ii == R-1 and jj == C-1:\n",
    "        done = True\n",
    "    return new_state, r, done\n",
    "\n",
    "def avail_actions(state:int):\n",
    "    res = []\n",
    "    i, j = state//C, state%C\n",
    "    for a in range(len(ACTIONS)):\n",
    "        ii, jj = i + ACTIONS[a][0], j + ACTIONS[a][1]\n",
    "        if ii >= 0 and ii < R and jj >= 0 and jj < C:\n",
    "            res.append(a)\n",
    "    return res\n",
    "            \n",
    "        \n",
    "        \n",
    "action_size = 4 # ^ v < >\n",
    "state_size = R * C\n",
    "\n",
    "qtable = np.zeros((state_size, action_size))\n",
    "\n",
    "for state in range(state_size):\n",
    "    acts = avail_actions(state)\n",
    "    for a in range(4):\n",
    "        if a not in acts:\n",
    "            qtable[state, a] = -10000\n"
   ]
  },
  {
   "cell_type": "code",
   "execution_count": 34,
   "metadata": {},
   "outputs": [],
   "source": [
    "# Hyperparameters\n",
    "total_episodes = 15000 # Total episodes\n",
    "learning_rate = 0.8 # Learning rate\n",
    "max_step = 99 # Max step per episode\n",
    "gamma = 0.95 # Discounting rate\n",
    "\n",
    "# Exploration parameters\n",
    "epsilon = 1.0\n",
    "max_epsilon = 1.0\n",
    "min_epsilon = 0.01\n",
    "decay_rate = 0.005\n"
   ]
  },
  {
   "cell_type": "code",
   "execution_count": 35,
   "metadata": {},
   "outputs": [
    {
     "name": "stdout",
     "output_type": "stream",
     "text": [
      "Score over time: 9965.107866666667\n",
      "[[  6196.09908544 -10000.         -10000.           6295.09908544]\n",
      " [  6627.47272152 -10000.           5979.34413117   6528.47272152]\n",
      " [  6977.33970686 -10000.           6295.09908544   6977.33970686]\n",
      " [  7345.62074406 -10000.           6528.47272073   7269.01643065]\n",
      " [  7553.64775291 -10000.           6977.33970485   7652.648875  ]\n",
      " [  8056.4725     -10000.           7266.68706381 -10000.        ]\n",
      " [  6528.47272152   5979.34413117 -10000.           6627.47272152]\n",
      " [  6784.28970686   6295.09908544   6196.09908544   6977.33970686]\n",
      " [  7246.62074406   6528.47272152   6627.47272152   7345.62074406]\n",
      " [  7733.28499375   6977.33970686   6977.33970686   7553.648875  ]\n",
      " [  8042.35262498   7269.01438042   7345.62074357   8056.4725    ]\n",
      " [  8481.55         7652.64887434   7553.648875   -10000.        ]\n",
      " [  6977.33970686   6196.09811054 -10000.           6784.2562922 ]\n",
      " [  7246.62074406   6627.47272151   6528.4727049    7246.62064866]\n",
      " [  7733.28499375   6977.33970686   6784.28970686   7733.28499375]\n",
      " [  8141.352625     7345.62074406   7246.62074406   8042.352625  ]\n",
      " [  8570.8975       7553.64887423   7733.28499345   8481.55      ]\n",
      " [  8929.           8056.4725       8042.352625   -10000.        ]\n",
      " [  7345.62074406   6528.4719695  -10000.           7246.62074406]\n",
      " [  7733.28499375   6784.28970686   6977.33970682   7733.28499331]\n",
      " [  8042.352625     7246.62074388   7246.62074404   8141.352625  ]\n",
      " [  8471.8975       7733.28499375   7733.28499375   8570.8975    ]\n",
      " [  9023.05         8042.352625     8141.352625     8929.        ]\n",
      " [  9400.           8481.55         8570.8975     -10000.        ]\n",
      " [  7733.28499375   6977.33968504 -10000.           7733.28499375]\n",
      " [  8141.352625     7246.62074406   7345.62074406   8042.352625  ]\n",
      " [  8570.8975       7733.2848915    7733.28499375   8471.8975    ]\n",
      " [  9023.05         8141.352625     8042.352625     9023.05      ]\n",
      " [  9499.           8570.8975       8471.8975       9400.        ]\n",
      " [ 10000.           8929.           9023.05       -10000.        ]\n",
      " [-10000.           7345.62074396 -10000.           8141.352625  ]\n",
      " [-10000.           7733.28499375   7733.28499375   8570.8975    ]\n",
      " [-10000.           8042.352625     8141.352625     9023.05      ]\n",
      " [-10000.           8471.8975       8570.8975       9499.        ]\n",
      " [-10000.           9023.05         9023.05        10000.        ]\n",
      " [-10000.              0.              0.         -10000.        ]]\n"
     ]
    }
   ],
   "source": [
    "# Train the Q-table\n",
    "rewards = []\n",
    "\n",
    "for episode in range(total_episodes):\n",
    "    done = False\n",
    "    total_rewards = 0\n",
    "    state = 0\n",
    "    \n",
    "    for step in range(max_step):\n",
    "        rnd = random.uniform(0,1)\n",
    "        if rnd > epsilon:\n",
    "            action = np.argmax(qtable[state, :])\n",
    "        else:\n",
    "            action = random.sample(avail_actions(state),1)[0]\n",
    "            \n",
    "        new_state, reward, done = go_one_step(state, action)\n",
    "        \n",
    "        ## Update Q(s,a):= Q(s,a) + lr [R(s,a) + gamma * max Q(s',a') - Q(s,a)]\n",
    "        qtable[state, action] = qtable[state, action] + learning_rate * (reward + gamma * np.max(qtable[new_state, :]) - qtable[state, action])\n",
    "        \n",
    "        total_rewards += reward\n",
    "        state = new_state\n",
    "        \n",
    "        if done:\n",
    "            break\n",
    "    epsilon = min_epsilon + (max_epsilon - min_epsilon)*np.exp(-decay_rate*episode)\n",
    "    rewards.append(total_rewards)\n",
    "    \n",
    "print(\"Score over time: \" + str(sum(rewards)/total_episodes))\n",
    "print(qtable)\n",
    "        \n",
    "            \n",
    "        "
   ]
  },
  {
   "cell_type": "code",
   "execution_count": 36,
   "metadata": {},
   "outputs": [
    {
     "name": "stdout",
     "output_type": "stream",
     "text": [
      "['>', 'v', '>', '>', 'v', 'v', '>', 'v', 'v']\n"
     ]
    }
   ],
   "source": [
    "# Solve the Maze\n",
    "\n",
    "for episode in range(1):\n",
    "    state = 0\n",
    "    done = False\n",
    "    actions = []\n",
    "    \n",
    "    for step in range(max_step):\n",
    "        action = np.argmax(qtable[state, :])\n",
    "        \n",
    "        new_state, reward, done = go_one_step(state, action)\n",
    "        if done:\n",
    "            break\n",
    "        \n",
    "        state = new_state\n",
    "        actions.append(action)\n",
    "        \n",
    "    print(list(map(lambda a: ACTIONS_STR[a], actions)))\n",
    "        "
   ]
  },
  {
   "attachments": {},
   "cell_type": "markdown",
   "metadata": {},
   "source": [
    "## Reinforcement Learning: Deep Q Network\n",
    "\n",
    "[REF 1](https://github.com/mswang12/minDQN/blob/main/minDQN.ipynb)\n",
    "[REF 2](https://zhuanlan.zhihu.com/p/110769361)"
   ]
  },
  {
   "attachments": {},
   "cell_type": "markdown",
   "metadata": {},
   "source": [
    "## DQN 三个优化\n",
    "\n",
    "![](dqn01.png)\n",
    "![](dqn02.png)\n",
    "![](dqn03.png)"
   ]
  },
  {
   "cell_type": "code",
   "execution_count": null,
   "metadata": {},
   "outputs": [],
   "source": []
  }
 ],
 "metadata": {
  "kernelspec": {
   "display_name": "py310",
   "language": "python",
   "name": "python3"
  },
  "language_info": {
   "codemirror_mode": {
    "name": "ipython",
    "version": 3
   },
   "file_extension": ".py",
   "mimetype": "text/x-python",
   "name": "python",
   "nbconvert_exporter": "python",
   "pygments_lexer": "ipython3",
   "version": "3.10.8"
  },
  "orig_nbformat": 4
 },
 "nbformat": 4,
 "nbformat_minor": 2
}

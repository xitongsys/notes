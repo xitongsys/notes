{
 "cells": [
  {
   "attachments": {},
   "cell_type": "markdown",
   "metadata": {},
   "source": [
    "# RCNN\n",
    "\n",
    "[ref1: R-CNN](https://zhuanlan.zhihu.com/p/62276088)\n",
    "\n",
    "[ref2: Selective Search](https://www.geeksforgeeks.org/selective-search-for-object-detection-r-cnn/)\n"
   ]
  },
  {
   "attachments": {},
   "cell_type": "markdown",
   "metadata": {},
   "source": [
    "![](01.png)"
   ]
  }
 ],
 "metadata": {
  "language_info": {
   "name": "python"
  },
  "orig_nbformat": 4
 },
 "nbformat": 4,
 "nbformat_minor": 2
}

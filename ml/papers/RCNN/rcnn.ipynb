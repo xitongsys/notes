{
 "cells": [
  {
   "attachments": {},
   "cell_type": "markdown",
   "metadata": {},
   "source": [
    "# RCNN\n",
    "\n",
    "[ref1: R-CNN](https://zhuanlan.zhihu.com/p/62276088)\n",
    "\n",
    "[ref2: Selective Search](https://www.geeksforgeeks.org/selective-search-for-object-detection-r-cnn/)\n"
   ]
  },
  {
   "attachments": {},
   "cell_type": "markdown",
   "metadata": {},
   "source": [
    "![](03.png)\n",
    "![](04.png)\n",
    "![](05.png)\n",
    "\n",
    "\n",
    "![](01.png)\n",
    "\n"
   ]
  },
  {
   "attachments": {},
   "cell_type": "markdown",
   "metadata": {},
   "source": [
    "1. Histogram Intersection 一种计算相似度的方法 [ref](https://mpatacchiola.github.io/blog/2016/11/12/the-simplest-classifier-histogram-intersection.html)\n",
    "\n",
    "![](02.png)"
   ]
  },
  {
   "attachments": {},
   "cell_type": "markdown",
   "metadata": {},
   "source": [
    "## RCNN\n",
    "\n",
    "![](06.png)\n",
    "![](07.png)\n",
    "![](08.png)"
   ]
  },
  {
   "attachments": {},
   "cell_type": "markdown",
   "metadata": {},
   "source": [
    "1. RCNN 的结构比较简单，分为三层。最前面是一个Selective Search层，来提取region proposals。接着是CNN层，用来提取空间特征。最后是一个SVM层，用于最终分类"
   ]
  }
 ],
 "metadata": {
  "language_info": {
   "name": "python"
  },
  "orig_nbformat": 4
 },
 "nbformat": 4,
 "nbformat_minor": 2
}

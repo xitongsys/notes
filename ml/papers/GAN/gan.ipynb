{
 "cells": [
  {
   "attachments": {},
   "cell_type": "markdown",
   "metadata": {},
   "source": [
    "# GAN\n",
    "\n",
    "[李沐讲论文](https://www.youtube.com/watch?v=g_0HtlrLiDo&list=PLFXJ6jwg0qW-7UM8iUTj3qKqdhbQULP5I&index=8)"
   ]
  },
  {
   "attachments": {},
   "cell_type": "markdown",
   "metadata": {},
   "source": [
    "![](01.png)\n",
    "![](02.png)\n",
    "\n",
    "1. 对抗网络就是构造了两个MLP，一个用随机输入，输出一个向量，另一个判断这个向量是否是属于真实数据集。然后两个网络同时训练\n",
    "\n",
    "2. 真实数据集的每一个元素（向量）$x$，都可以看作是一个服从$p_{data}(x)$ 分布的一个随机向量。而 G 网络生成的输出向量也可以看作是服从一个$p_{g}(x)$分布的随机向量。G 网络训练的目标，就是让自己输出的$p_{g}(x)$不断逼近真实的$p_{data}(x)$。而 D 网络则是不断训练，使其能够真实区分$x$ 是否来自真实数据集。下面的图很好的描述了这个过程\n",
    "\n",
    "![](03.png)\n",
    "\n",
    "3. 当在实际应用中，判断两个数据集是否是来自一个分布，对于单一变量，可以用传统的t-test，而对于比较复杂的多维向量，一个很简单的办法是训练一个二分类模型，看看能否将两个数据集的数据分开"
   ]
  },
  {
   "attachments": {},
   "cell_type": "markdown",
   "metadata": {},
   "source": [
    "![](04.png)\n",
    "![](05.png)\n",
    "![](06.png)\n",
    "\n",
    "1. 证明相对简单。核心就是要证明当$p_data(x) = p_g(x)$的时候，目标函数会取得最优解。而当取得最优解的时候，$D^{*}_G = \\frac{1}{2}$"
   ]
  }
 ],
 "metadata": {
  "language_info": {
   "name": "python"
  },
  "orig_nbformat": 4
 },
 "nbformat": 4,
 "nbformat_minor": 2
}

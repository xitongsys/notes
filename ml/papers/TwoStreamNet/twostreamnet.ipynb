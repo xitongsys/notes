{
 "cells": [
  {
   "attachments": {},
   "cell_type": "markdown",
   "metadata": {},
   "source": [
    "# Two Stream Network\n",
    "\n",
    "[李沐讲论文](https://www.youtube.com/watch?v=vuqwKP2iDe0)"
   ]
  },
  {
   "attachments": {},
   "cell_type": "markdown",
   "metadata": {},
   "source": [
    "![](01.png)\n",
    "![](02.png)"
   ]
  },
  {
   "attachments": {},
   "cell_type": "markdown",
   "metadata": {},
   "source": [
    "1. 之前用CNN处理视频，直接将各个frame stack输入CNN，让其自己去学习其中的运动信息，结果发现并不能很好学到，完全比不上之前的手工feature的方法\n",
    "2. 这篇文章就将CNN和手工feature结合起来，用了两个CNN网络，一个直接用静态单帧图像学习，学习空间信息。另一个用optical flow的stack输入，学习时间信息。最后将两个结果合并起来\n",
    "3. 这样分开还有一个好处，空间网络可以用之前的图像分类的数据集预训练"
   ]
  },
  {
   "attachments": {},
   "cell_type": "markdown",
   "metadata": {},
   "source": [
    "![](03.png)"
   ]
  },
  {
   "attachments": {},
   "cell_type": "markdown",
   "metadata": {},
   "source": [
    "1. 在optical flow的利用上，一种是固定点，一种是连成轨迹。在这篇文章中发现，简单的stack比轨迹反倒要好。（后续的工作表明，轨迹会更好）"
   ]
  }
 ],
 "metadata": {
  "language_info": {
   "name": "python"
  },
  "orig_nbformat": 4
 },
 "nbformat": 4,
 "nbformat_minor": 2
}

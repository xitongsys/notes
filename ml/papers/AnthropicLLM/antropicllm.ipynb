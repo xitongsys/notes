{
 "cells": [
  {
   "attachments": {},
   "cell_type": "markdown",
   "metadata": {},
   "source": [
    "# Anthropic LLM\n",
    "\n",
    "[李沐讲论文](https://www.youtube.com/watch?v=iqX0pgNDon0&list=RDCMUC8WCW6C3BWLKSZ5cMzD8Gyw&index=6)"
   ]
  }
 ],
 "metadata": {
  "language_info": {
   "name": "python"
  },
  "orig_nbformat": 4
 },
 "nbformat": 4,
 "nbformat_minor": 2
}

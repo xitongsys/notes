{
 "cells": [
  {
   "attachments": {},
   "cell_type": "markdown",
   "metadata": {},
   "source": [
    "# BERT\n",
    "\n",
    "[李沐讲论文](https://www.youtube.com/watch?v=ULD3uIb2MHQ)"
   ]
  },
  {
   "attachments": {},
   "cell_type": "markdown",
   "metadata": {},
   "source": [
    "![](01.png)\n",
    "\n",
    "1. 基于特征的预训练，比如词嵌入。预先训练好一些feature，将具体任务的token和这些feature一起输入到下游模型\n",
    "\n",
    "2. 基于微调"
   ]
  },
  {
   "attachments": {},
   "cell_type": "markdown",
   "metadata": {},
   "source": [
    "![](03.png)\n",
    "![](02.png)"
   ]
  },
  {
   "attachments": {},
   "cell_type": "markdown",
   "metadata": {},
   "source": [
    "![](04.png)\n",
    "![](05.png)\n",
    "![](06.png)"
   ]
  },
  {
   "attachments": {},
   "cell_type": "markdown",
   "metadata": {},
   "source": [
    "1. 输入嵌入包括三部分，词本身的嵌入向量 + 那个句子（A or B）+ 句子中的位置\n",
    "   这里的这些向量参数都是可以通过学习来调整\n",
    "\n",
    "2. WordPiece 词嵌入会把一些不常见的词拆开，比如拆成词根和后缀，而不是单纯依靠单词来划分句子。这样可以大大减少vocabulary的size"
   ]
  },
  {
   "attachments": {},
   "cell_type": "markdown",
   "metadata": {},
   "source": [
    "![](07.png)\n",
    "![](08.png)"
   ]
  },
  {
   "attachments": {},
   "cell_type": "markdown",
   "metadata": {},
   "source": [
    "1. 80% 用mask，10%随机选一个词，10%不变，interesting part"
   ]
  },
  {
   "attachments": {},
   "cell_type": "markdown",
   "metadata": {},
   "source": [
    "![](09.png)\n",
    "![](10.png)"
   ]
  },
  {
   "attachments": {},
   "cell_type": "markdown",
   "metadata": {},
   "source": [
    "1. `##` 就是WordPiece拆词的结果"
   ]
  }
 ],
 "metadata": {
  "language_info": {
   "name": "python"
  },
  "orig_nbformat": 4
 },
 "nbformat": 4,
 "nbformat_minor": 2
}

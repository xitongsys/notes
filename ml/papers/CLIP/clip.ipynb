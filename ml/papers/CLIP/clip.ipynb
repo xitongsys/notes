{
 "cells": [
  {
   "attachments": {},
   "cell_type": "markdown",
   "metadata": {},
   "source": [
    "# CLIP\n",
    "\n",
    "[李沐讲论文](https://www.youtube.com/watch?v=OZF1t_Hieq8&list=PLFXJ6jwg0qW-7UM8iUTj3qKqdhbQULP5I&index=16)"
   ]
  }
 ],
 "metadata": {
  "language_info": {
   "name": "python"
  },
  "orig_nbformat": 4
 },
 "nbformat": 4,
 "nbformat_minor": 2
}

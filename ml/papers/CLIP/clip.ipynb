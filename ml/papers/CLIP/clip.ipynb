{
 "cells": [
  {
   "attachments": {},
   "cell_type": "markdown",
   "metadata": {},
   "source": [
    "# CLIP\n",
    "\n",
    "[李沐讲论文](https://www.youtube.com/watch?v=OZF1t_Hieq8&list=PLFXJ6jwg0qW-7UM8iUTj3qKqdhbQULP5I&index=16)\n",
    "\n",
    "![](01.png)"
   ]
  },
  {
   "attachments": {},
   "cell_type": "markdown",
   "metadata": {},
   "source": [
    "![](02.png)\n",
    "![](03.png)"
   ]
  },
  {
   "attachments": {},
   "cell_type": "markdown",
   "metadata": {},
   "source": [
    "1. CLIP 将原来固定的分类（比如ImageNet 1000类）变成了一个句子。这样可以从网络上极大扩充数据集的大小。同时将一个原来生成式任务变成一个对比任务，这样比直接预测每个词要简单。比如上图中，对角线上的就是positive的样例，而其他地方的就是negative样例。这样就就可以将图片和对应描述配对。在预测的时候，分别输入所有可能的句子，将图片的输出特征和各个句子的输出特征计算内积，求得每个句子的概率。"
   ]
  },
  {
   "attachments": {},
   "cell_type": "markdown",
   "metadata": {},
   "source": [
    "![](05.png)\n"
   ]
  },
  {
   "attachments": {},
   "cell_type": "markdown",
   "metadata": {},
   "source": [
    "1. prompt 的引入，解决了单一描述词没有上下文，多义词的问题，从而使学习到的特征更加准确\n",
    "\n",
    "2. 用不同的prompt去训练数据集，得到很多个模型，最后再整合到一起，可以有很大的提升。\n",
    "\n",
    "[prompt_github](https://github.com/openai/CLIP/blob/main/notebooks/Prompt_Engineering_for_ImageNet.ipynb)\n",
    "![](04.png)"
   ]
  }
 ],
 "metadata": {
  "language_info": {
   "name": "python"
  },
  "orig_nbformat": 4
 },
 "nbformat": 4,
 "nbformat_minor": 2
}

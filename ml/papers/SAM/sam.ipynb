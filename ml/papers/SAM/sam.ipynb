{
 "cells": [
  {
   "attachments": {},
   "cell_type": "markdown",
   "metadata": {},
   "source": [
    "# SAM (segment anything)\n",
    "\n",
    "[github](https://github.com/facebookresearch/segment-anything)\n",
    "\n",
    "![](01.png)\n",
    "![](02.png)"
   ]
  },
  {
   "attachments": {},
   "cell_type": "markdown",
   "metadata": {},
   "source": [
    "1. 模型上没有特别的创新，都是用的之前的（ViT）\n",
    "   \n",
    "   输入有两部分，一个是image本身，通过image encoder，变成embedding vector。另一部分就是prompt，有几种不同的prompt：points，box，text，mask，处理的方式不太一样\n",
    "\n",
    "   * mask：用cnn提取特征，变成特征向量\n",
    "   * point，box：posional encodings\n",
    "   * text：直接用的CLIP里的text encoder\n",
    "\n",
    "    输出就是mask，然后打分作为目标函数\n",
    "\n",
    "2. IoU:\n",
    "\n",
    "   ![](03.png)"
   ]
  }
 ],
 "metadata": {
  "language_info": {
   "name": "python"
  },
  "orig_nbformat": 4
 },
 "nbformat": 4,
 "nbformat_minor": 2
}

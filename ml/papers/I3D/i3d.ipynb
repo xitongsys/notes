{
 "cells": [
  {
   "attachments": {},
   "cell_type": "markdown",
   "metadata": {},
   "source": [
    "# I3D\n",
    "\n",
    "[李沐讲论文](https://www.youtube.com/watch?v=9lIkKiAn6uE&list=RDCMUC8WCW6C3BWLKSZ5cMzD8Gyw&index=23)"
   ]
  }
 ],
 "metadata": {
  "language_info": {
   "name": "python"
  },
  "orig_nbformat": 4
 },
 "nbformat": 4,
 "nbformat_minor": 2
}

{
 "cells": [
  {
   "attachments": {},
   "cell_type": "markdown",
   "metadata": {},
   "source": [
    "# I3D\n",
    "\n",
    "[李沐讲论文](https://www.youtube.com/watch?v=9lIkKiAn6uE&list=RDCMUC8WCW6C3BWLKSZ5cMzD8Gyw&index=23)"
   ]
  },
  {
   "attachments": {},
   "cell_type": "markdown",
   "metadata": {},
   "source": [
    "![](01.png)\n",
    "\n",
    "1. 本文的主要工作，一个是搞了一个新的数据集。另一个是双流3D网络结构"
   ]
  },
  {
   "attachments": {},
   "cell_type": "markdown",
   "metadata": {},
   "source": [
    "![](02.png)"
   ]
  },
  {
   "attachments": {},
   "cell_type": "markdown",
   "metadata": {},
   "source": [
    "1. 目前的5种主流作视频理解的网络结构。\n",
    "   \n",
    "(a) 视频每一帧图像单独输入一个CNN获取空间特征，然后将每帧的空间特征输入LSTM获取时序信息\n",
    "\n",
    "(b) 和处理图片一样，只不过把时间轴看作第三个维度，用$N\\times N\\times N$的三维卷积核去做CNN\n",
    "\n",
    "(c) 前面看过的双流网络。一个用CNN处理每一帧的图像，另一个输入光流\n",
    "\n",
    "(d) 双流网络最后作融和的时候，用一个3D CNN\n",
    "\n",
    "(e) 就是本文的结构，双流网络，每个网络都用3D CNN处理"
   ]
  },
  {
   "attachments": {},
   "cell_type": "markdown",
   "metadata": {},
   "source": [
    "![](03.png)"
   ]
  },
  {
   "attachments": {},
   "cell_type": "markdown",
   "metadata": {},
   "source": [
    "1. 在训练3D 网络的时候，如何利用2D的训练参数的问题。因为2D网络处理的是图片，而图片可以不断重复而形成一个静止的视频。3D模型训练这些静止视频，得到的结果应该根2D的结果一致。 因此只要把2D的参数重复N次，最后在除以N就可以了"
   ]
  }
 ],
 "metadata": {
  "language_info": {
   "name": "python"
  },
  "orig_nbformat": 4
 },
 "nbformat": 4,
 "nbformat_minor": 2
}

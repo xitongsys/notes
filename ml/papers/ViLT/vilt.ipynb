{
 "cells": [
  {
   "attachments": {},
   "cell_type": "markdown",
   "metadata": {},
   "source": [
    "# ViLT\n",
    "\n",
    "[李沐讲论文](https://www.youtube.com/watch?v=ug8YvZOjOCE&list=PLFXJ6jwg0qW-7UM8iUTj3qKqdhbQULP5I&index=28)"
   ]
  }
 ],
 "metadata": {
  "language_info": {
   "name": "python"
  },
  "orig_nbformat": 4
 },
 "nbformat": 4,
 "nbformat_minor": 2
}

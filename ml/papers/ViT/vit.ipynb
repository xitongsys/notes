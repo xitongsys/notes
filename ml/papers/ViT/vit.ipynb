{
 "cells": [
  {
   "attachments": {},
   "cell_type": "markdown",
   "metadata": {},
   "source": [
    "# ViT\n",
    "\n",
    "[李沐讲论文](https://www.youtube.com/watch?v=FRFt3x0bO94&list=PLFXJ6jwg0qW-7UM8iUTj3qKqdhbQULP5I&index=9)"
   ]
  }
 ],
 "metadata": {
  "kernelspec": {
   "display_name": "py310",
   "language": "python",
   "name": "python3"
  },
  "language_info": {
   "name": "python",
   "version": "3.10.8"
  },
  "orig_nbformat": 4
 },
 "nbformat": 4,
 "nbformat_minor": 2
}

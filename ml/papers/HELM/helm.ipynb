{
 "cells": [
  {
   "attachments": {},
   "cell_type": "markdown",
   "metadata": {},
   "source": [
    "# HELM(holistic evaluation of language models)\n",
    "\n",
    "[李沐讲论文](https://www.youtube.com/watch?v=WgFEw9U3BXA&list=RDCMUC8WCW6C3BWLKSZ5cMzD8Gyw&index=5)"
   ]
  }
 ],
 "metadata": {
  "language_info": {
   "name": "python"
  },
  "orig_nbformat": 4
 },
 "nbformat": 4,
 "nbformat_minor": 2
}

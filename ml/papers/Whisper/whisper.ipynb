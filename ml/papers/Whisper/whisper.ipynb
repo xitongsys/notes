{
 "cells": [
  {
   "attachments": {},
   "cell_type": "markdown",
   "metadata": {},
   "source": [
    "# Whisper\n",
    "\n",
    "[李沐讲论文](https://www.youtube.com/watch?v=3eXCJd32UnM)"
   ]
  },
  {
   "attachments": {},
   "cell_type": "markdown",
   "metadata": {},
   "source": [
    "![](01.png)"
   ]
  },
  {
   "attachments": {},
   "cell_type": "markdown",
   "metadata": {},
   "source": [
    "1. 这篇文章模型上没有太多改进。主要是在数据集上，采用一些质量低一点的数据集，但是把数据量提升了很多。是的预训练之后的模型范化能力很好。另外一个就是用一个模型通过提供不同的prompt来解决多个不同的任务，简化了之前语音识别任务的复杂度"
   ]
  },
  {
   "attachments": {},
   "cell_type": "markdown",
   "metadata": {},
   "source": [
    "![](02.png)"
   ]
  },
  {
   "attachments": {},
   "cell_type": "markdown",
   "metadata": {},
   "source": [
    "1. 模型是标准的transformer的encoder和decoder。通过提供不同的prompt token，来完成不同的任务"
   ]
  }
 ],
 "metadata": {
  "language_info": {
   "name": "python"
  },
  "orig_nbformat": 4
 },
 "nbformat": 4,
 "nbformat_minor": 2
}

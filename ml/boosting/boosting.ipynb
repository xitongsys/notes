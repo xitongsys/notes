{
 "cells": [
  {
   "cell_type": "markdown",
   "metadata": {},
   "source": [
    "# boosting"
   ]
  },
  {
   "cell_type": "markdown",
   "metadata": {},
   "source": [
    "## Bootstrap aggregating (bagging)\n",
    "\n",
    "原来有1个size为n的training样本D，将其扩展成k个样本，扩展方法为，带放回的在D中随机选取样本点n个。这样选取k次，就成了k个样本了，然后分别用这k个样本寻列k个model，最后用这k个模型vote(classifier) or average(regression)得到最终的结果\n",
    "\n",
    "<img src=\"01.png\" width=500px />\n",
    "\n",
    "<hr style=\"border-bottom: dashed 1px\" />"
   ]
  },
  {
   "cell_type": "markdown",
   "metadata": {},
   "source": [
    "### (1-1/e)=63.2% 的证明\n",
    "\n",
    "问题抽象为：从{1,2,...,n}中，有放回的选择m次，得到的集合distinct的数字个数(集合的size)的期望是多少？\n",
    "\n",
    "#### 方法1\n",
    "\n",
    "<img src=\"02.png\" width=500px />\n",
    "\n",
    "#### 方法2\n",
    "\n",
    "假设取到k个不同数的概率为p(k)，$E(size) = \\Sigma_{k=1}^{m} p(k)k$\n",
    "\n",
    "从n个数取k个不同的计数为$C_n^k$，考虑m次选取过程，每次只能从这k个里面取，概率就为$(\\frac{k}{n})^m$，这里面有多余计数，比如只选了小于k个数字的。"
   ]
  }
 ],
 "metadata": {
  "language_info": {
   "name": "python"
  }
 },
 "nbformat": 4,
 "nbformat_minor": 2
}

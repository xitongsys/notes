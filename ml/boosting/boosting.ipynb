{
 "cells": [
  {
   "cell_type": "markdown",
   "metadata": {},
   "source": [
    "# Bagging and Boosting"
   ]
  },
  {
   "cell_type": "markdown",
   "metadata": {},
   "source": [
    "## Bootstrap aggregating (bagging)\n",
    "\n",
    "原来有1个size为n的training样本D，将其扩展成k个样本，扩展方法为，带放回的在D中随机选取样本点n个。这样选取k次，就成了k个样本了，然后分别用这k个样本寻列k个model，最后用这k个模型vote(classifier) or average(regression)得到最终的结果\n",
    "\n",
    "<img src=\"01.png\" width=500px />\n",
    "\n",
    "<hr style=\"border-bottom: dashed\" />"
   ]
  },
  {
   "cell_type": "markdown",
   "metadata": {},
   "source": [
    "### (1-1/e)=63.2% 的证明\n",
    "\n",
    "问题抽象为：从{1,2,...,n}中，有放回的选择m次，得到的集合distinct的数字个数(集合的size)的期望是多少？\n",
    "\n",
    "#### 方法1\n",
    "\n",
    "<img src=\"02.png\" width=500px />\n",
    "\n",
    "#### 方法2\n",
    "\n",
    "假设取到k个不同数的概率为p(k)，$E(size) = \\Sigma_{k=1}^{m} p(k)k$\n",
    "\n",
    "从n个数取k个不同的计数为$C_n^k$，考虑m次选取过程，每次只能从这k个里面取，概率就为$(\\frac{k}{n})^m$，这里面有多余计数，比如只选了小于k个数字的，考虑少了1个数字的情况，一共k种，$C_k^1 (\\frac{k-1}{n})^m$，这k种是k个集合，用inclusive-exclusive原理，就得到\n",
    "\n",
    "$p(k) = C_n^k( (\\frac{k}{n})^m + \\Sigma_{i=1}^{k} (-1)^i C_k^{k-i} (\\frac{k-i}{n})^m) =  \\Sigma_{i=0}^{k} (-1)^i C_n^k C_k^{k-i} (\\frac{k-i}{n})^m$\n",
    "\n",
    "所以 $E(size) = \\Sigma_{k=1}^{m}  \\Sigma_{i=0}^{k} (-1)^i C_n^k C_k^{k-i} (\\frac{k-i}{n})^m k$\n",
    "\n",
    "令$k-i = d$\n",
    "\n",
    "$E(size) = \\Sigma_{k=1}^m \\Sigma_{d=0}^k (-1)^{k-d} C_n^d C_{n-d}^{k-d} (\\frac{d}{n})^m k$\n",
    "\n",
    "因为$C_n^k C_k^i = C_n^i C_{n-i}^{k-i}$\n",
    "\n",
    "$E(size) = \\Sigma_{k=1}^m \\Sigma_{d=0}^{k} (-1)^{k-d} C_n^d C_{n-d}^{k-d} (\\frac{d}{n})^m k$\n",
    "\n",
    "因为$\\Sigma_{k=1}^{m} p(k) = 1$，即 $\\Sigma_{k=1}^{m} n p(k) = n$\n",
    "\n",
    "$n - E(size) = \\Sigma_{k=1}^m \\Sigma_{d=0}^{k} (-1)^{k-d} C_n^d C_{n-d}^{k-d} (\\frac{d}{n})^m (n-k) = \\Sigma_{k=1}^m \\Sigma_{d=0}^{k} (-1)^{k-d} C_n^d C_{n-d-1}^{n-k-1} (\\frac{d}{n})^m (n-d)$\n",
    "\n",
    "因为d的求和上限是k，导致无法交换两个求和，其实d的求和上限可以设为无穷，因为当d>k，后面$C_{n-d-1}^{n-k-1} = 0$，k的上限也可以设为无穷，因为当k>m，p(k)=0。因此可以交换求和符号得\n",
    "\n",
    "$n-E(size) = \\Sigma_{d} C_n^d (\\frac{d}{n})^m (n-d) \\Sigma_{k} (-1)^{k-d}  C_{n-d-1}^{n-k-1}$\n",
    "\n",
    "右侧求和 $\\Sigma_{k} (-1)^{k-d}C_{n-d-1}^{n-k-1} = \\Sigma_{k} (-1)^{k-d}C_{n-d-1}^{k-d}$ 因为k是全体自然数求和，所以就等于$(1 + -1)^{n-d-1}$，只有当$n-d-1=0$时才不为0。将$n-d=1$ 带入就求得\n",
    "\n",
    "$n-E(size) = n(\\frac{n-1}{n})^m$\n",
    "\n",
    "所以$E(size) = n(1 - (\\frac{n-1}{n})^k) = n(1 - \\frac{1}{e})$\n",
    "\n",
    "\n",
    "<hr style='border-bottom:dashed' />"
   ]
  }
 ],
 "metadata": {
  "kernelspec": {
   "display_name": "base",
   "language": "python",
   "name": "python3"
  },
  "language_info": {
   "codemirror_mode": {
    "name": "ipython",
    "version": 3
   },
   "file_extension": ".py",
   "mimetype": "text/x-python",
   "name": "python",
   "nbconvert_exporter": "python",
   "pygments_lexer": "ipython3",
   "version": "3.11.4"
  }
 },
 "nbformat": 4,
 "nbformat_minor": 2
}

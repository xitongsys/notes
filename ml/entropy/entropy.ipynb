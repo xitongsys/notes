{
 "cells": [
  {
   "attachments": {},
   "cell_type": "markdown",
   "metadata": {},
   "source": [
    "# Entropy & Cross-Entropy & KL Divergence\n",
    "\n",
    "[REF 1](https://zhuanlan.zhihu.com/p/345025351)\n",
    "\n"
   ]
  },
  {
   "attachments": {},
   "cell_type": "markdown",
   "metadata": {},
   "source": [
    "![](01.png)\n",
    "\n",
    "1. 柯西函数方程。有理数范围内证明有意思\n",
    "   \n",
    "![](02.png)\n",
    "\n"
   ]
  },
  {
   "attachments": {},
   "cell_type": "markdown",
   "metadata": {},
   "source": [
    "![](03.png)"
   ]
  },
  {
   "attachments": {},
   "cell_type": "markdown",
   "metadata": {},
   "source": [
    "1. Kraft-McMillan inequality\n",
    "\n",
    "[ref 1](https://en.wikipedia.org/wiki/Kraft%E2%80%93McMillan_inequality)\n",
    "\n",
    "这个不等式很有意思。首先，应用于前缀编码(prefix code)。也就是任何一个编码，都不会是另一个编码的前缀。前缀编码就可以等价于一个树。而编码的长度，就是这棵树叶子节点的深度！\n",
    "\n",
    "所以证明也就简单了，考虑任意 R 叉树，如果只有一个节点，那么就是 l = 1。\n",
    "\n",
    "任意一个第 l 层的节点，如果它不是叶节点，求和的最大值一定是 R 叉全部都有。我们就比较如下两个的大小：\n",
    "\n",
    "```\n",
    "          P\n",
    " /    /   ..  \\    \\\n",
    "L(1) L(2) .. L(R-1) L(R)\n",
    "```\n",
    "\n",
    "如果 P 作为叶子节点，它的值为 $R^{-L}$\n",
    "\n",
    "如果 P 的子结点全部为叶子节点，所有的值为 $R^{-L-1} * R = R^{-L}$\n",
    "\n",
    "如果不是全部填满，那就是小于。所以一个节点往下添加叶子节点只会使整个求和变小。所以只有一个节点这个求和是最大的。因此就有\n",
    "\n",
    "$\\sum R^{-depth_i} <= 1$\n",
    "\n",
    "\n",
    "![](04.png)\n",
    "![](05.png)\n"
   ]
  },
  {
   "attachments": {},
   "cell_type": "markdown",
   "metadata": {},
   "source": [
    "![](06.png)"
   ]
  }
 ],
 "metadata": {
  "kernelspec": {
   "display_name": "py310",
   "language": "python",
   "name": "python3"
  },
  "language_info": {
   "name": "python",
   "version": "3.10.8"
  },
  "orig_nbformat": 4
 },
 "nbformat": 4,
 "nbformat_minor": 2
}

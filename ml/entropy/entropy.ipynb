{
 "cells": [
  {
   "attachments": {},
   "cell_type": "markdown",
   "metadata": {},
   "source": [
    "# Entropy & Cross-Entropy & KL Divergence\n",
    "\n",
    "[REF 1](https://zhuanlan.zhihu.com/p/345025351)\n",
    "\n",
    "![](01.png)"
   ]
  }
 ],
 "metadata": {
  "language_info": {
   "name": "python"
  },
  "orig_nbformat": 4
 },
 "nbformat": 4,
 "nbformat_minor": 2
}

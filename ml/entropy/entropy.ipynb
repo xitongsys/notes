{
 "cells": [
  {
   "attachments": {},
   "cell_type": "markdown",
   "metadata": {},
   "source": [
    "# Entropy & Cross-Entropy & KL Divergence\n",
    "\n",
    "[REF 1](https://zhuanlan.zhihu.com/p/345025351)\n",
    "\n"
   ]
  },
  {
   "attachments": {},
   "cell_type": "markdown",
   "metadata": {},
   "source": [
    "![](01.png)\n",
    "\n",
    "1. 柯西函数方程。有理数范围内证明有意思\n",
    "   \n",
    "![](02.png)\n",
    "\n"
   ]
  },
  {
   "attachments": {},
   "cell_type": "markdown",
   "metadata": {},
   "source": [
    "![](03.png)"
   ]
  },
  {
   "attachments": {},
   "cell_type": "markdown",
   "metadata": {},
   "source": [
    "1. Kraft-McMillan inequality\n",
    "\n",
    "[ref 1](https://en.wikipedia.org/wiki/Kraft%E2%80%93McMillan_inequality)\n",
    "\n",
    "这个不等式很有意思。首先，应用于前缀编码(prefix code)。也就是任何一个编码，都不会是另一个编码的前缀。前缀编码就可以等价于一个树。而编码的长度，就是这棵树叶子节点的深度！\n",
    "\n",
    "![](04.png)\n",
    "![](05.png)\n"
   ]
  },
  {
   "attachments": {},
   "cell_type": "markdown",
   "metadata": {},
   "source": [
    "![](06.png)"
   ]
  }
 ],
 "metadata": {
  "kernelspec": {
   "display_name": "py310",
   "language": "python",
   "name": "python3"
  },
  "language_info": {
   "name": "python",
   "version": "3.10.8"
  },
  "orig_nbformat": 4
 },
 "nbformat": 4,
 "nbformat_minor": 2
}

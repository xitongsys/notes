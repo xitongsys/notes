{
 "cells": [
  {
   "cell_type": "markdown",
   "metadata": {},
   "source": [
    "# puzzles 2024"
   ]
  },
  {
   "cell_type": "markdown",
   "metadata": {},
   "source": [
    "## 带记忆的硬币\n",
    "\n",
    "有一枚硬币很特别，每次的正反面跟前面的状态有关，如果上一次是正面，则下一次为正面的概率为$p$，为反面的概率为$1-p$。现在已知第一次为正面，求第$n$次为正面的概率\n",
    "\n",
    "### solve\n",
    "\n",
    "方法一：\n",
    "\n",
    "设第$n$次为正面的概率为$P_n$，则有$P_n = p P_{n-1} + (1-p)(1-P_{n-1})$，变换得到$P_n - \\frac{1}{2} = (2p-1)(P_{n-1} - \\frac{1}{2})$，求得$P_n = \\frac{1}{2}(1 + (2p-1)^{n-1})$\n",
    "\n",
    "\n",
    "方法二：\n",
    "\n",
    "标准马尔科夫过程，转移矩阵\n",
    "\n",
    "$$\n",
    "M = \n",
    "\\left(\n",
    "\\begin{array}{l}\n",
    "p & 1-p \\\\\n",
    "1-p & p\n",
    "\\end{array}\n",
    "\\right)\n",
    "$$\n",
    "\n",
    "特征值$\\lambda_1 = 1, \\lambda_2 = 2p-1$，特征向量为$a_1 = \\frac{1}{\\sqrt{2}}[1,1]^T,a_2=\\frac{1}{\\sqrt{2}}[1,-1]^T$\n",
    "\n",
    "令$A = [a_1,a_2]$\n",
    "\n",
    "$$\n",
    "M = \n",
    "A\n",
    "\\left(\n",
    "\\begin{array}{l}\n",
    "1 & 0 \\\\\n",
    "0 & 2p-1\n",
    "\\end{array}\n",
    "\\right)\n",
    "A^T\n",
    "\n",
    "$$\n",
    "\n",
    "$$\n",
    "M^{n-1} = \n",
    "A\n",
    "\\left(\n",
    "\\begin{array}{l}\n",
    "1 & 0 \\\\\n",
    "0 & (2p-1)^{n-1}\n",
    "\\end{array}\n",
    "\\right)\n",
    "A^T\n",
    "$$\n",
    "\n",
    "初始状态$S_1 = [1,0]^T$，所以$S_n = M^{n-1} S_1 = \\frac{1}{2}[1+(2p-1)^{n-1}, 1-(2p-1)^{n-1}]^T$"
   ]
  },
  {
   "cell_type": "markdown",
   "metadata": {},
   "source": [
    "## 猜数字游戏\n",
    "\n",
    "从1到1000中任意取一个数字，让你来猜。每次你猜一个数字，同时我会告诉你结果是大了还是小了，还是一样。如果一样，游戏就结束。问在最优的策略下，你最少准备多少钱才能够保证一定可以猜到正确的数字\n",
    "\n",
    "有下面几种情况\n",
    "\n",
    "1. 无论猜的大了还是小了，都要支付1块钱，\n",
    "\n",
    "2. 如果猜大了，支付1块钱，猜小了，支付2块钱\n",
    "\n",
    "3. 如果猜大了，支付2块钱，猜小了，支付1块钱\n",
    "\n",
    "这个问题是个已有的问题，网上有很多分析"
   ]
  }
 ],
 "metadata": {
  "kernelspec": {
   "display_name": "base",
   "language": "python",
   "name": "python3"
  },
  "language_info": {
   "codemirror_mode": {
    "name": "ipython",
    "version": 3
   },
   "file_extension": ".py",
   "mimetype": "text/x-python",
   "name": "python",
   "nbconvert_exporter": "python",
   "pygments_lexer": "ipython3",
   "version": "3.11.4"
  }
 },
 "nbformat": 4,
 "nbformat_minor": 2
}

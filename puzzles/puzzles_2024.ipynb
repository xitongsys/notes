{
 "cells": [
  {
   "cell_type": "markdown",
   "metadata": {},
   "source": [
    "# puzzles 2024"
   ]
  },
  {
   "cell_type": "markdown",
   "metadata": {},
   "source": [
    "## 带记忆的硬币\n",
    "\n",
    "有一枚硬币很特别，每次的正反面跟前面的状态有关，如果上一次是正面，则下一次为正面的概率为$p$，为反面的概率为$1-p$。现在已知第一次为正面，求第$n$次为正面的概率\n",
    "\n",
    "### solve\n",
    "\n",
    "方法一：\n",
    "\n",
    "设第$n$次为正面的概率为$P_n$，则有$P_n = p P_{n-1} + (1-p)(1-P_{n-1})$，变换得到$P_n - \\frac{1}{2} = (2p-1)(P_{n-1} - \\frac{1}{2})$，求得$P_n = \\frac{1}{2}(1 + (2p-1)^{n-1})$\n",
    "\n",
    "\n",
    "方法二：\n",
    "\n",
    "标准马尔科夫过程，转移矩阵\n",
    "\n",
    "$$\n",
    "M = \n",
    "\\left(\n",
    "\\begin{array}{l}\n",
    "p & 1-p \\\\\n",
    "1-p & p\n",
    "\\end{array}\n",
    "\\right)\n",
    "$$\n",
    "\n",
    "特征值$\\lambda_1 = 1, \\lambda_2 = 2p-1$，特征向量为$a_1 = \\frac{1}{\\sqrt{2}}[1,1]^T,a_2=\\frac{1}{\\sqrt{2}}[1,-1]^T$\n",
    "\n",
    "令$A = [a_1,a_2]$\n",
    "\n",
    "$$\n",
    "M = \n",
    "A\n",
    "\\left(\n",
    "\\begin{array}{l}\n",
    "1 & 0 \\\\\n",
    "0 & 2p-1\n",
    "\\end{array}\n",
    "\\right)\n",
    "A^T\n",
    "\n",
    "$$\n",
    "\n",
    "$$\n",
    "M^{n-1} = \n",
    "A\n",
    "\\left(\n",
    "\\begin{array}{l}\n",
    "1 & 0 \\\\\n",
    "0 & (2p-1)^{n-1}\n",
    "\\end{array}\n",
    "\\right)\n",
    "A^T\n",
    "$$\n",
    "\n",
    "初始状态$S_1 = [1,0]^T$，所以$S_n = M^{n-1} S_1 = \\frac{1}{2}[1+(2p-1)^{n-1}, 1-(2p-1)^{n-1}]^T$"
   ]
  }
 ],
 "metadata": {
  "kernelspec": {
   "display_name": "base",
   "language": "python",
   "name": "python3"
  },
  "language_info": {
   "codemirror_mode": {
    "name": "ipython",
    "version": 3
   },
   "file_extension": ".py",
   "mimetype": "text/x-python",
   "name": "python",
   "nbconvert_exporter": "python",
   "pygments_lexer": "ipython3",
   "version": "3.11.4"
  }
 },
 "nbformat": 4,
 "nbformat_minor": 2
}

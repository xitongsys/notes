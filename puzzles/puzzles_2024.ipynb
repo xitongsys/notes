{
 "cells": [
  {
   "cell_type": "markdown",
   "metadata": {},
   "source": [
    "# puzzles 2024"
   ]
  },
  {
   "cell_type": "markdown",
   "metadata": {},
   "source": [
    "## 带记忆的硬币\n",
    "\n",
    "有一枚硬币很特别，每次的正反面跟前面的状态有关，如果上一次是正面，则下一次为正面的概率为$p$，为反面的概率为$1-p$。现在已知第一次为正面，求第$n$次为正面的概率\n",
    "\n",
    "### solve\n",
    "\n",
    "方法一：\n",
    "\n",
    "设第$n$次为正面的概率为$P_n$，则有$P_n = p P_{n-1} + (1-p)(1-P_{n-1})$，变换得到$P_n - \\frac{1}{2} = (2p-1)(P_{n-1} - \\frac{1}{2})$，求得$P_n = \\frac{1}{2}(1 + (2p-1)^{n-1})$\n",
    "\n",
    "\n",
    "方法二：\n",
    "\n",
    "标准马尔科夫过程，转移矩阵\n",
    "\n",
    "$$\n",
    "M = \n",
    "\\left(\n",
    "\\begin{array}{l}\n",
    "p & 1-p \\\\\n",
    "1-p & p\n",
    "\\end{array}\n",
    "\\right)\n",
    "$$\n",
    "\n",
    "特征值$\\lambda_1 = 1, \\lambda_2 = 2p-1$，特征向量为$a_1 = \\frac{1}{\\sqrt{2}}[1,1]^T,a_2=\\frac{1}{\\sqrt{2}}[1,-1]^T$\n",
    "\n",
    "令$A = [a_1,a_2]$\n",
    "\n",
    "$$\n",
    "M = \n",
    "A\n",
    "\\left(\n",
    "\\begin{array}{l}\n",
    "1 & 0 \\\\\n",
    "0 & 2p-1\n",
    "\\end{array}\n",
    "\\right)\n",
    "A^T\n",
    "\n",
    "$$\n",
    "\n",
    "$$\n",
    "M^{n-1} = \n",
    "A\n",
    "\\left(\n",
    "\\begin{array}{l}\n",
    "1 & 0 \\\\\n",
    "0 & (2p-1)^{n-1}\n",
    "\\end{array}\n",
    "\\right)\n",
    "A^T\n",
    "$$\n",
    "\n",
    "初始状态$S_1 = [1,0]^T$，所以$S_n = M^{n-1} S_1 = \\frac{1}{2}[1+(2p-1)^{n-1}, 1-(2p-1)^{n-1}]^T$\n",
    "\n",
    "------------"
   ]
  },
  {
   "cell_type": "markdown",
   "metadata": {},
   "source": [
    "## 猜数字游戏\n",
    "\n",
    "从1到1000中任意取一个数字，让你来猜。每次你猜一个数字，同时我会告诉你结果是大了还是小了，还是一样。如果一样，游戏就结束。问在最优的策略下，你最少准备多少钱才能够保证一定可以猜到正确的数字\n",
    "\n",
    "有下面几种情况\n",
    "\n",
    "1. 无论猜的大了还是小了，都要支付1块钱，\n",
    "\n",
    "2. 如果猜大了，支付2块钱，猜小了，支付1块钱\n",
    "\n",
    "3. 如果猜大了，支付1块钱，猜小了，支付2块钱\n",
    "\n",
    "**注：这个问题是个已有的问题，不是我出的，不过很有意思**\n",
    "\n",
    "### solve\n",
    "\n",
    "设有n个数字，目标数字为t，如果第一次取x，如果t < x，则需要的费用为L，如果t > x，需要的费用为R，则有\n",
    "\n",
    "$f(n,L,R) = max(f(x-1,L,R)+L, f(n-x,L,R)+R)$\n",
    "\n",
    "这是一个dp问题，可以递归求解。但是题目中的问题的特点是，$|L-R|<=1$，这就可以有解析的做法\n",
    "\n",
    "以情况2为例，写出前几项\n",
    "\n",
    "$f_1=0,f_2=1,f_3=2,f_4=2,f_5=3,f_6=3,f_7=3,f_8=4,f_9=4,f_{10}=4,f_{11}=4,f_{12}=4,...$\n",
    "\n",
    "即$f = 0,1,2,2,3,3,3$\n",
    "\n",
    "可以发现相同数字作为一组的话，那么每组的大小序列是一个Fabonacci数列，下面证明这一点\n",
    "\n",
    "$f_n = max(f_a + 2, f_b + 1)$，其中$a+b=n-1$，而因为前面的是+2,后面+1，所以$a < b$。\n",
    "\n",
    "所以图像就是从n之前的$f_n$中找到两个数，使得$a+b=n-1$，同时使得$max(f_a+2,f_b+1)$最小，以上面序列$f$为例，要求$f_8$，可以选择$f_3+f_4$，或者$f_2+f_5$,显然$f_2+f_5$不行，因为结果由最大的值决定\n",
    "\n",
    "所以我们只能选择同一组或者相邻两组的数来构造，考虑下面4组，每组的元素个数为$a,b,c,d$\n",
    "\n",
    "$d$组中的数字，要么（1）都选自b组；（2）一个选自b，一个选自c\n",
    "\n",
    "$a,b$组可以组成的最大index是 $i_1 = a + (a+b)$，这一部分属于$c$组\n",
    "\n",
    "$b,c$组可以组成的最大index是 $i_2 = (a+b) + (a+b+c)$\n",
    "\n",
    "所以$d = i_2 - i_1 = b + c$，得证。\n",
    "\n",
    "\n",
    "既然是个Fabonacci序列，问题就简单了，设序列的和为$S_n$，即找$S_n >= 1000$的$n$的最小值，$ans = n-1 = 14$\n"
   ]
  },
  {
   "cell_type": "code",
   "execution_count": 5,
   "metadata": {},
   "outputs": [
    {
     "name": "stdout",
     "output_type": "stream",
     "text": [
      "[1, 1, 2, 3, 5, 8, 13, 21, 34, 55, 89, 144, 233, 377, 610]\n",
      "ans = 14\n"
     ]
    }
   ],
   "source": [
    "fs = [1,1]\n",
    "\n",
    "while sum(fs) < 1000:\n",
    "    fs.append(fs[-1]+fs[-2])\n",
    "\n",
    "ans = len(fs) - 1\n",
    "\n",
    "print(fs)\n",
    "print(f'ans = {ans}')"
   ]
  },
  {
   "cell_type": "markdown",
   "metadata": {},
   "source": [
    "--------------"
   ]
  }
 ],
 "metadata": {
  "kernelspec": {
   "display_name": "base",
   "language": "python",
   "name": "python3"
  },
  "language_info": {
   "codemirror_mode": {
    "name": "ipython",
    "version": 3
   },
   "file_extension": ".py",
   "mimetype": "text/x-python",
   "name": "python",
   "nbconvert_exporter": "python",
   "pygments_lexer": "ipython3",
   "version": "3.11.4"
  }
 },
 "nbformat": 4,
 "nbformat_minor": 2
}

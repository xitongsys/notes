{
 "cells": [
  {
   "cell_type": "markdown",
   "metadata": {},
   "source": [
    "# 缠论 \n",
    "\n",
    "缠论很多标准的规范化和完备性证明"
   ]
  },
  {
   "cell_type": "markdown",
   "metadata": {},
   "source": [
    "## 缠论 K 线\n",
    "\n",
    "默认k线有四个数据(open,close,low,high),这里只取(low,high)构成缠论的k线\n",
    "\n",
    "-------\n",
    "\n",
    "## 缠论 K 线包含\n",
    "\n",
    "如果相邻两个K线，其中一个完全被另一个包含（例如 $low_1 <= low_2 <= high_2 <= high_1$），要做K线包含处理，即将两根K线合并成一条K线\n",
    "\n",
    "**1. 在 K 线序列中间位置出现包含关系，而此位置之前的K线，已经处理过包含关系了**\n",
    "\n",
    "考虑连续3根K线 $K_0 = (low_0,high_0), K_1 = (low_1,high_1), K_2 = (low_2,high_2)$，其中 $K_1, K_2$ 存在包含关系。\n",
    "\n",
    "因为$K_1$ 之前已经处理过包含关系，所以$K_0, K_1$ 一定不是包含关系，由此可以定义方向：\n",
    "\n",
    "如果$(low_1 >= low_0) and (high_1 >= high_0)$，定义为**向上**, 此时采取up-up合并，即$K_m = (max(low_1,low_2), max(high_1,high_2))$\n",
    "\n",
    "如果$(low_1 <= low_0) and (high_1 <= high_0)$，定义为**向下**, 此时采取low-low合并，即$K_m = (min(low_1,low_2), min(high_1,high_2))$\n",
    "\n",
    "\n",
    "**2. 处理的 K 线最开始前两个就出现了包含关系**\n",
    "\n",
    "此时无法定义方向，可以选择任意合并方式，或者直接舍弃第一条K线\n",
    "\n",
    "\n",
    "<img src='res/01.png' width=500px />\n",
    "\n",
    "-------\n",
    "\n",
    "\n",
    "\n"
   ]
  },
  {
   "cell_type": "markdown",
   "metadata": {},
   "source": [
    "## 顶/底分型\n",
    "\n",
    "考虑连续3根合并后的缠论K线 $K_0 = (low_0,high_0), K_1 = (low_1,high_1), K_2 = (low_2,high_2)$\n",
    "\n",
    "如果 $(low_1 > low_0) and (low_1 > low_2) and (high_1 > high_0) and (high_1 > high_2)$，则这3根K线组成**顶分型**\n",
    "\n",
    "如果 $(low_1 < low_0) and (low_1 < low_2) and (high_1 < high_0) and (high_1 < high_2)$，则这3根K线组成**底分型**\n",
    "\n",
    "<img src='res/02.png' width=300px />\n",
    "\n",
    "-------"
   ]
  }
 ],
 "metadata": {
  "kernelspec": {
   "display_name": "base",
   "language": "python",
   "name": "python3"
  },
  "language_info": {
   "name": "python",
   "version": "3.11.4"
  }
 },
 "nbformat": 4,
 "nbformat_minor": 2
}

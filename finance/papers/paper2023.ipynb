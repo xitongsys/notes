{
 "cells": [
  {
   "cell_type": "markdown",
   "metadata": {},
   "source": [
    "# Some Papers 2023"
   ]
  },
  {
   "cell_type": "markdown",
   "metadata": {},
   "source": [
    "## Transformers versus LSTM for electronic trading\n",
    "\n",
    "<img src='res/00.png' width=500px />\n",
    "\n",
    "1. 比较Transformer和LSTM在高频预测price的效果，针对的是比特币市场\n",
    "\n",
    "2. 输入为\n",
    "\n",
    "    <img src='res/01.png' width=500px />\n",
    "\n",
    "    即 10档 bid/ask 和 过去t span的mid price\n",
    "\n",
    "    目标为 未来 t span mid price的变化\n",
    "\n",
    "    <img src='res/02.png' width=500px />\n",
    "\n",
    "\n",
    "3. 回测\n",
    "\n",
    "    比特币tick interval为0.1s左右，回测最大的span也就10s左右\n",
    "\n",
    "    回测的transcaion cost为0.2bp的结果，没有考虑滑点的结果如下\n",
    "\n",
    "    <img src='res/03.png' width=500px />\n",
    "\n",
    "    <img src='res/04.png' width=500px />\n",
    "\n",
    "4. \n",
    "    感觉效果不好，意义不大\n",
    "\n",
    "-------------        "
   ]
  }
 ],
 "metadata": {
  "language_info": {
   "name": "python"
  }
 },
 "nbformat": 4,
 "nbformat_minor": 2
}

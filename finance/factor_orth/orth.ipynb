{
 "cells": [
  {
   "cell_type": "markdown",
   "metadata": {},
   "source": [
    "# 因子正交化\n",
    "\n",
    "[ref01](截面回归与因子正交的二重奏)"
   ]
  },
  {
   "cell_type": "markdown",
   "metadata": {},
   "source": [
    "设有M个因子$(f_1,...,f_M)$，N个stcok，因子矩阵就是$F_{N \\times M}$ (每一列是一个因子)。每个因子在截面上（列）做了标准化，$mean=0, std=1$\n",
    "\n",
    "目标就是找到一个变换矩阵$S_{M \\times M}$，使得变换后的因子矩阵$\\widetilde{F}_{N \\times M} = F_{N \\times M} S_{M \\times M}$，各个因子相互正交。即\n",
    "\n",
    "$\\widetilde{F}_{N \\times M}^T \\widetilde{F}_{N \\times M} = I$ => $S^T_{M \\times M } F^T_{M \\times N} F_{N \\times M} S_{M \\times M} = I$\n",
    "\n",
    "令 $P_{M \\times M} = F^T_{M \\times N} F_{N \\times M}$ 为因子的协方差矩阵，有\n",
    "\n",
    "$S^T P S = I$ => $S^T P = S^{-1}$ => $P = (S^T)^{-1} S^{-1}$ => $P^{-1} = S S^T$\n",
    "\n",
    "这个方程的通解为 $S_{M \\times M} = P_{M \\times M}^{-1/2} C_{M \\times M}$，$C_{M \\times M}$ 为任意正交阵\n",
    "\n",
    "\n",
    "因为$P_{M \\times M}$为实对称矩阵，因此可以正交对角化，即存在正交矩阵$O_{M \\times M}$使得\n",
    "\n",
    "$P_{M \\times M} = O_{M \\times M} D_{M \\times M} O^{-1}_{M \\times M}$\n",
    "\n",
    "因此就有\n",
    "\n",
    "$S_{M \\times M} = O_{M \\times M} D^{-1/2}_{M \\times M} O^{-1}_{M \\times M} C_{M \\times M}$\n",
    "\n",
    "不同的正交化方法就是选择不同的$C_{M \\times M}$\n",
    "\n",
    "<img src='01.png' width=800px />\n",
    "\n",
    "\n",
    "----------------"
   ]
  },
  {
   "cell_type": "markdown",
   "metadata": {},
   "source": [
    "### 定理1：对称正交是所有正交化法那个法中，是的旋转前后因子间距最小的方法\n",
    "\n",
    "<img src='02.png' width=800px />\n"
   ]
  },
  {
   "cell_type": "markdown",
   "metadata": {},
   "source": [
    "证明：\n",
    "\n",
    "因为 $\\widetilde{f}_i = (f_1,...f_M) \\left( \\begin{array}{} S_{1i} \\\\ ... \\\\ S_{Mi} \\end{array} \\right)$\n",
    "\n",
    "$d = \\Sigma_{i=1}^{M} |\\widetilde{f}_i - f_i|^2 = \\Sigma_{i=1}^{M} (\\widetilde{f}_i - f_i)^T (\\widetilde{f}_i - f_i) = \\Sigma_{i=1}^{M} (2 - 2f^T_i \\widetilde{f}_i)$\n",
    "\n",
    "$f^T_i \\widetilde{f}_i = (f_i^Tf_1,...f_i^T f_i,..f_i^T f_M) \\left( \\begin{array}{} S_{1i} \\\\ ... \\\\ S_{Mi} \\end{array} \\right) = (P_{i1}, ..., P_{iM}) \\left( \\begin{array}{} S_{1i} \\\\ ... \\\\ S_{Mi} \\end{array} \\right)$ 也就是P矩阵i行和M矩阵i列的积\n",
    "\n",
    "所以就有\n",
    "\n",
    "$d = 2 - 2 Trace(PS)$\n",
    "\n",
    "又因为 $P = ODO^{-1}, S = OD^{-\\frac{1}{2}}O^{-1} C$，所以$d = 2 - 2 Trace(OD^{\\frac{1}{2}}O^{-1} C)$\n",
    "\n",
    "要求d的最小值，也就是后面Trace部分的最大值，令 $t = Trace(OD^{\\frac{1}{2}}O^{-1} C)$\n",
    "\n",
    "\n",
    "其中令 $B = OD^{\\frac{1}{2}}O^{-1}$，B为实对陈矩阵。也就是寻找一个正交矩阵 C，使得 $Trace(BC)$ 最大\n",
    "\n",
    "令$A = O D^{\\frac{1}{4}} O^{-1}$，A也是实对陈矩阵，且$A^T A = B$，问题就变为寻找正交矩阵 C，使得$Trace(A^T A C)$ 最大\n",
    "\n",
    "**直观来看，$AC$ 就是把 A 做了旋转，再跟原来矩阵相乘，而对角线上的值，就是旋转后的各个向量与旋转前的自己的乘积。当然，不变的情况是最大的，也就是$C = I$**\n",
    "\n",
    "下面给出严格证明\n",
    "\n",
    "设 $A=(a_1,..,a_M)$，$a_i$ 为列向量。则$A^T A C = (a_1,..,a_M) \\left( \\begin{array}{} a_1^T \\\\ ... \\\\ a_M^T \\end{array} \\right) C = (a_1 a_1^T + ... + a_M a_M^T) C$\n",
    "\n",
    "对于向量 a,b 有 $Trace(a b^T) = a^T b$\n",
    "\n",
    "所以，$t = Trace(A^TAC) = \\Sigma_{i=1}^M Trace(a_i a_i^T C) = \\Sigma_{i=1}^M a_i^T C^T a_i = \\Sigma_{i=1}^M a_i^T C a_i$\n",
    "\n",
    "当 $C = I$ 时，有 $t_I = \\Sigma_{i=1}^M a_i^T a_i$，令 $dt = t_I - t = \\Sigma_{i=1}^M a_i^T (I-C) a_i$，也就是证 dt >= 0。可以证明每一项都 >= 0，即证明 $a_i^T (I-C) a_i >= 0$，也就是证明 $I-C$ 是半正定矩阵\n",
    "\n",
    "\n",
    "设 $I-C$ 的本征值为 $\\lambda$，有 $(I-C)x = \\lambda x => Cx = (1-\\lambda)x$，因为 C 为正交矩阵，其本征值为 +1 或者 -1，即 $1 - \\lambda = 1 => \\lambda = 0$ 或 $1 - \\lambda = -1 => \\lambda = 2$，所以 $\\lambda >= 0$，即 $I - C$ 为半正定矩阵，得证。\n",
    "\n",
    "\n",
    "-------------------"
   ]
  },
  {
   "cell_type": "markdown",
   "metadata": {},
   "source": [
    "### 矩阵Trace的一些性质\n",
    "\n",
    "1. $Trace(A) = Trace(A^T)$\n",
    "\n",
    "2. 轮转不变：$Trace(AB) = Trace(BA)$\n",
    "\n",
    "3. $Trace(A) = \\Sigma \\lambda_i$，$\\lambda_i$ 为A的特征根\n",
    "\n",
    "    <img src='03.png' width=600px />\n",
    "\n",
    "4. $x,y$ 为列向量，$Trace(x y^T) = y^T x$\n",
    "\n",
    "---------------"
   ]
  },
  {
   "cell_type": "markdown",
   "metadata": {},
   "source": [
    "### 定理2：截面回归取残差和Schmidt 正交化本质是一样的\n",
    "\n",
    "证明比较简单，具体参考文章\n",
    "\n",
    "---------------"
   ]
  }
 ],
 "metadata": {
  "language_info": {
   "name": "python"
  }
 },
 "nbformat": 4,
 "nbformat_minor": 2
}
